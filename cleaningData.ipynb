{
 "cells": [
  {
   "cell_type": "code",
   "execution_count": 1,
   "metadata": {},
   "outputs": [],
   "source": [
    "import os, json"
   ]
  },
  {
   "cell_type": "code",
   "execution_count": null,
   "metadata": {},
   "outputs": [],
   "source": [
    "####################\n",
    "# Loading raw data #\n",
    "####################\n",
    "folder = 'raw/' # Folder with data_backend_tik_tok files + TikTok.json + voices.json\n",
    "data = []\n",
    "for file_name in os.listdir('raw/'):\n",
    "    if 'data_backend' in file_name:\n",
    "        print(file_name)\n",
    "        with open(os.path.join(folder, file_name), 'r', encoding=\"utf8\") as f:\n",
    "            for line in f.readlines():\n",
    "                data.append(json.loads(line))\n",
    "\n",
    "print(len(data))\n",
    "print('Done!')"
   ]
  },
  {
   "cell_type": "code",
   "execution_count": null,
   "metadata": {},
   "outputs": [],
   "source": [
    "# Load enriched data\n",
    "with open(os.path.join('enriched', 'TikTok.json'), 'r') as f:\n",
    "    enriched_data = json.load(f)\n",
    "print(len(enriched_data))\n",
    "print('Done!')"
   ]
  },
  {
   "cell_type": "code",
   "execution_count": null,
   "metadata": {},
   "outputs": [],
   "source": [
    "# Transform into dict of enriched data\n",
    "enriched_data = {enrich_data['nap']['id']: enrich_data for enrich_data in enriched_data}\n",
    "print('Done!')"
   ]
  },
  {
   "cell_type": "code",
   "execution_count": null,
   "metadata": {},
   "outputs": [],
   "source": [
    "print(len(enriched_data), 'distinct nap id')\n",
    "print('Done!')"
   ]
  },
  {
   "cell_type": "code",
   "execution_count": null,
   "metadata": {},
   "outputs": [],
   "source": [
    "# Enrich raw_data with brand and photo_text_enrichment when available\n",
    "for raw_data in data:\n",
    "    nap_id = raw_data['id']\n",
    "    if nap_id in enriched_data.keys():\n",
    "        # Add brand key\n",
    "        raw_data['brand'] = enriched_data[nap_id]['brand']\n",
    "        raw_data['photo_text_enrichment'] = enriched_data[nap_id]['photo_text_enrichment']\n",
    "print('Done!')"
   ]
  },
  {
   "cell_type": "code",
   "execution_count": null,
   "metadata": {},
   "outputs": [],
   "source": [
    "# Then load voices into a simple list\n",
    "voices = []\n",
    "with open(os.path.join('voices', 'voices.json'), 'r', encoding=\"utf8\") as f:\n",
    "    for line in f.readlines():\n",
    "        voices.append(json.loads(line))\n",
    "print(len(voices))\n",
    "print('Done!')"
   ]
  },
  {
   "cell_type": "code",
   "execution_count": null,
   "metadata": {},
   "outputs": [],
   "source": [
    "#convert voices into a dict of voices\n",
    "\n",
    "tiktok_voices = {}\n",
    "for voice in voices:\n",
    "    \n",
    "    # Filter with 'celebrity', 'influencer'\n",
    "    \n",
    "    #### NOW WITH ALL CATEGORIES ####\n",
    "    #if voice['type'] not in ['celebrity', 'influencer']:\n",
    "    #    continue\n",
    "    ##################################        \n",
    "    for source in voice['sources']:\n",
    "        \n",
    "        if source['channel'] == 'tiktok':\n",
    "            \n",
    "            # Copy parent infos to source\n",
    "            for field in ['country', 'name', 'type']:\n",
    "                source[field] = voice[field]\n",
    "            \n",
    "            source_id = source['id']\n",
    "            # Add to tiktok_voices dict\n",
    "            tiktok_voices[source_id] = source\n",
    "            \n",
    "print(len(tiktok_voices.keys()))\n",
    "print('Done!')"
   ]
  },
  {
   "cell_type": "code",
   "execution_count": null,
   "metadata": {},
   "outputs": [],
   "source": [
    "# And finally link with row data\n",
    "count = 0\n",
    "\n",
    "for raw_data in data:\n",
    "    voice_id = raw_data['social']['profile']['id']\n",
    "    if voice_id in tiktok_voices.keys():\n",
    "        raw_data['voice'] = tiktok_voices[voice_id]\n",
    "print('Done!')"
   ]
  },
  {
   "cell_type": "code",
   "execution_count": null,
   "metadata": {},
   "outputs": [],
   "source": [
    "type(data)"
   ]
  },
  {
   "cell_type": "code",
   "execution_count": null,
   "metadata": {},
   "outputs": [],
   "source": [
    "quarter = int(len(data) // 4)\n",
    "\n",
    "data_1 = data[ : quarter]\n",
    "data_2 = data[quarter : 2*quarter]\n",
    "data_3 = data[2*quarter : 3*quarter]\n",
    "data_4 = data[3*quarter : ]\n"
   ]
  },
  {
   "cell_type": "code",
   "execution_count": null,
   "metadata": {},
   "outputs": [],
   "source": [
    "import pandas as pd\n",
    "from pandas.io.json import json_normalize\n",
    "\n",
    "merged = pd.json_normalize(data_4)\n",
    "\n",
    "print('Done!')"
   ]
  },
  {
   "cell_type": "code",
   "execution_count": null,
   "metadata": {},
   "outputs": [],
   "source": [
    "merged.to_pickle('BIG4.pickle')\n",
    "print('Done!')"
   ]
  },
  {
   "cell_type": "code",
   "execution_count": null,
   "metadata": {},
   "outputs": [],
   "source": [
    "################\n",
    "################ YEYA !!!!!!!!\n",
    "################\n",
    "data = pd.read_pickle(\"BIG1.pickle\")"
   ]
  },
  {
   "cell_type": "code",
   "execution_count": null,
   "metadata": {},
   "outputs": [],
   "source": [
    "data.head()"
   ]
  }
 ],
 "metadata": {
  "kernelspec": {
   "display_name": "Python 3",
   "language": "python",
   "name": "python3"
  },
  "language_info": {
   "codemirror_mode": {
    "name": "ipython",
    "version": 3
   },
   "file_extension": ".py",
   "mimetype": "text/x-python",
   "name": "python",
   "nbconvert_exporter": "python",
   "pygments_lexer": "ipython3",
   "version": "3.10.9"
  },
  "orig_nbformat": 4,
  "vscode": {
   "interpreter": {
    "hash": "db5740255d546a04446b048525a5bc845846090afdef074d1edd4f65d281e1a6"
   }
  }
 },
 "nbformat": 4,
 "nbformat_minor": 2
}
