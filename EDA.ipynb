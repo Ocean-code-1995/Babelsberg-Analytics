{
 "cells": [
  {
   "attachments": {},
   "cell_type": "markdown",
   "metadata": {},
   "source": [
    "# ***`Exploratory Data Analysis`***\n",
    "---\n",
    "---\n",
    "> #### `1) First Overview`\n",
    "> #### `2) Univariate Analysis`\n",
    "> #### `3) Bivariate Analysis`\n",
    "> #### `4) Multivariate Analysis`\n",
    "---"
   ]
  },
  {
   "attachments": {},
   "cell_type": "markdown",
   "metadata": {},
   "source": [
    "## ***Library Imports***\n",
    "---"
   ]
  },
  {
   "cell_type": "code",
   "execution_count": null,
   "metadata": {},
   "outputs": [],
   "source": [
    "### Data Manipulation ###\n",
    "import pandas as pd \n",
    "pd.set_option('display.max_columns', None)  # display all columns in pandas dataframe\n",
    "import numpy as np                          # linear algebra\n",
    "\n",
    "### Visualization ###\n",
    "%matplotlib inline                          # to display plots in Jupyter Notebook\n",
    "import matplotlib as mpl\n",
    "import matplotlib.pyplot as plt\n",
    "import seaborn as sns                       # also improves the look of plots\n",
    "sns.set()                                   # set Seaborn defaults\n",
    "plt.rcParams['figure.figsize'] = 10, 5      # default hor./vert. size of plots, in inches\n",
    "plt.rcParams['lines.markeredgewidth'] = 1   # to fix issue with seaborn box plots; \n",
    "                                            # needed after import seaborn\n",
    "\n",
    "import missingno as msno                    # visualizing missing values"
   ]
  },
  {
   "attachments": {},
   "cell_type": "markdown",
   "metadata": {},
   "source": [
    "## ***Load Data***\n",
    "---"
   ]
  },
  {
   "cell_type": "code",
   "execution_count": null,
   "metadata": {},
   "outputs": [],
   "source": []
  },
  {
   "attachments": {},
   "cell_type": "markdown",
   "metadata": {},
   "source": [
    "### ***`1) First Overview`***\n",
    "---"
   ]
  },
  {
   "cell_type": "code",
   "execution_count": null,
   "metadata": {},
   "outputs": [],
   "source": []
  },
  {
   "attachments": {},
   "cell_type": "markdown",
   "metadata": {},
   "source": [
    "### ***`2) Univariate Analysis`***\n",
    "---"
   ]
  },
  {
   "cell_type": "code",
   "execution_count": null,
   "metadata": {},
   "outputs": [],
   "source": []
  },
  {
   "attachments": {},
   "cell_type": "markdown",
   "metadata": {},
   "source": [
    "### ***`3) Bivariate Analysis`***\n",
    "---"
   ]
  },
  {
   "cell_type": "code",
   "execution_count": null,
   "metadata": {},
   "outputs": [],
   "source": []
  },
  {
   "attachments": {},
   "cell_type": "markdown",
   "metadata": {},
   "source": [
    "### ***`4) Multivariate Analysis`***\n",
    "---"
   ]
  },
  {
   "cell_type": "code",
   "execution_count": null,
   "metadata": {},
   "outputs": [],
   "source": []
  },
  {
   "cell_type": "markdown",
   "metadata": {},
   "source": []
  }
 ],
 "metadata": {
  "kernelspec": {
   "display_name": "base",
   "language": "python",
   "name": "python3"
  },
  "language_info": {
   "name": "python",
   "version": "3.9.12 (main, Apr  5 2022, 01:53:17) \n[Clang 12.0.0 ]"
  },
  "orig_nbformat": 4,
  "vscode": {
   "interpreter": {
    "hash": "7f3d6e7e52d94043ff22a69459b4cc427869268bbac229e55d8aae4cc2009a30"
   }
  }
 },
 "nbformat": 4,
 "nbformat_minor": 2
}
