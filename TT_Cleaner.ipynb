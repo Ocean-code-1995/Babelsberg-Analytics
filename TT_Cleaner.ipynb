{
 "cells": [
  {
   "attachments": {},
   "cell_type": "markdown",
   "metadata": {},
   "source": [
    "# ***`Data Cleaning Notebook`***\n",
    "---\n",
    "---\n",
    "---"
   ]
  },
  {
   "cell_type": "code",
   "execution_count": 2,
   "metadata": {},
   "outputs": [
    {
     "ename": "ModuleNotFoundError",
     "evalue": "No module named 'pandas'",
     "output_type": "error",
     "traceback": [
      "\u001b[0;31m---------------------------------------------------------------------------\u001b[0m",
      "\u001b[0;31mModuleNotFoundError\u001b[0m                       Traceback (most recent call last)",
      "Cell \u001b[0;32mIn [2], line 1\u001b[0m\n\u001b[0;32m----> 1\u001b[0m \u001b[39mimport\u001b[39;00m \u001b[39mpandas\u001b[39;00m \u001b[39mas\u001b[39;00m \u001b[39mpd\u001b[39;00m\n\u001b[1;32m      2\u001b[0m pd\u001b[39m.\u001b[39mset_option(\u001b[39m'\u001b[39m\u001b[39mdisplay.max_columns\u001b[39m\u001b[39m'\u001b[39m, \u001b[39mNone\u001b[39;00m)  \u001b[39m# display all columns in pandas dataframe\u001b[39;00m\n",
      "\u001b[0;31mModuleNotFoundError\u001b[0m: No module named 'pandas'"
     ]
    }
   ],
   "source": [
    "import pandas as pd\n",
    "pd.set_option('display.max_columns', None)  # display all columns in pandas dataframe"
   ]
  },
  {
   "attachments": {},
   "cell_type": "markdown",
   "metadata": {},
   "source": [
    "### `Load & Inspect 4 TikTok Files`\n",
    "---"
   ]
  },
  {
   "cell_type": "code",
   "execution_count": null,
   "metadata": {},
   "outputs": [],
   "source": [
    "print(\"Hello World\")"
   ]
  },
  {
   "cell_type": "code",
   "execution_count": null,
   "metadata": {},
   "outputs": [],
   "source": [
    "d1 = pd.read_pickle(\"Data/BIG1.pickle\")"
   ]
  },
  {
   "cell_type": "code",
   "execution_count": null,
   "metadata": {},
   "outputs": [],
   "source": [
    "print(d1.shape)\n",
    "d1.head(3)"
   ]
  },
  {
   "cell_type": "code",
   "execution_count": null,
   "metadata": {},
   "outputs": [],
   "source": [
    "d2 = pd.read_pickle(\"Data/BIG2.pickle\")"
   ]
  },
  {
   "cell_type": "code",
   "execution_count": null,
   "metadata": {},
   "outputs": [],
   "source": [
    "print(d2.shape)\n",
    "d2.head(3)"
   ]
  },
  {
   "cell_type": "code",
   "execution_count": null,
   "metadata": {},
   "outputs": [],
   "source": [
    "d3 = pd.read_pickle(\"Data/BIG3.pickle\")"
   ]
  },
  {
   "cell_type": "code",
   "execution_count": null,
   "metadata": {},
   "outputs": [],
   "source": [
    "print(d3.shape)\n",
    "d3.head(3)"
   ]
  },
  {
   "cell_type": "code",
   "execution_count": null,
   "metadata": {},
   "outputs": [],
   "source": [
    "d4 = pd.read_pickle(\"Data/BIG4.pickle\")"
   ]
  },
  {
   "cell_type": "code",
   "execution_count": null,
   "metadata": {},
   "outputs": [],
   "source": [
    "print(d4.shape)\n",
    "d4.head(3)"
   ]
  },
  {
   "attachments": {},
   "cell_type": "markdown",
   "metadata": {},
   "source": [
    "### `Concatenate to one big table:`\n",
    "---"
   ]
  },
  {
   "cell_type": "code",
   "execution_count": null,
   "metadata": {},
   "outputs": [],
   "source": [
    "data = pd.concat([d1, d2, d3, d4], ignore_index=True)"
   ]
  },
  {
   "cell_type": "code",
   "execution_count": null,
   "metadata": {},
   "outputs": [],
   "source": [
    "print(data.shape)\n",
    "data.head(3)"
   ]
  },
  {
   "attachments": {},
   "cell_type": "markdown",
   "metadata": {},
   "source": [
    "### `Write merged data to a file`\n",
    "---"
   ]
  },
  {
   "cell_type": "code",
   "execution_count": null,
   "metadata": {},
   "outputs": [],
   "source": [
    "data.to_pickle(\"Data/BIG_ASS.pickle\")"
   ]
  },
  {
   "attachments": {},
   "cell_type": "markdown",
   "metadata": {},
   "source": [
    "# ***`Cleaning Process`***\n",
    "---\n",
    "---\n",
    "### 1) `Drop pointless columns`\n",
    "### 2) `Rename & reorder columns`\n",
    "### 3) `Check percentage of NaN's for every column (Density)`\n",
    "### 4) `Data type casting`\n",
    "### 5) `Detailed investigation of columns`\n",
    "### 6) `Read cleaned Data to file`"
   ]
  },
  {
   "cell_type": "code",
   "execution_count": 2,
   "metadata": {},
   "outputs": [],
   "source": [
    "data = pd.read_pickle(\"Data/BIG_ASS.pickle\")"
   ]
  },
  {
   "attachments": {},
   "cell_type": "markdown",
   "metadata": {},
   "source": [
    "## ***`1) Drop Columns`***\n",
    "---"
   ]
  },
  {
   "cell_type": "markdown",
   "metadata": {},
   "source": [
    "#### Drop dead columns:"
   ]
  },
  {
   "cell_type": "code",
   "execution_count": 3,
   "metadata": {},
   "outputs": [],
   "source": [
    "data.dropna(how='all', axis=1, inplace=True)"
   ]
  },
  {
   "cell_type": "code",
   "execution_count": 4,
   "metadata": {},
   "outputs": [
    {
     "data": {
      "text/plain": [
       "(1395847, 69)"
      ]
     },
     "execution_count": 4,
     "metadata": {},
     "output_type": "execute_result"
    }
   ],
   "source": [
    "data.shape # removed 27 dead columns, successfully!"
   ]
  },
  {
   "cell_type": "markdown",
   "metadata": {},
   "source": [
    "#### Drop further pointless columns:"
   ]
  },
  {
   "cell_type": "code",
   "execution_count": null,
   "metadata": {},
   "outputs": [],
   "source": [
    "data.head(2)"
   ]
  },
  {
   "cell_type": "code",
   "execution_count": 5,
   "metadata": {},
   "outputs": [],
   "source": [
    "# drop 'em 1st run\n",
    "\n",
    "data = data.drop(columns=['url', 'topics','provider', 'images', 'channel.id', 'channel.name',\n",
    "                   'language.iso_code', 'language.name', 'location.country.iso_code',\n",
    "                   'miv.calculation_values.channel_type_id', 'miv.calculation_values.formula_version',\n",
    "                   'miv.calculation_values.title', 'miv.calculation_values.voice_id', 'social.profile.avatar_url',\n",
    "                   'social.profile.id', 'social.profile.url', 'voice.channel', 'voice.id', 'voice.image_url',\n",
    "                   'voice.url'])"
   ]
  },
  {
   "cell_type": "code",
   "execution_count": 8,
   "metadata": {},
   "outputs": [],
   "source": [
    "data = data.reindex(columns=sorted(data.columns, reverse=True))"
   ]
  },
  {
   "cell_type": "code",
   "execution_count": 10,
   "metadata": {},
   "outputs": [
    {
     "data": {
      "text/plain": [
       "(1395847, 49)"
      ]
     },
     "execution_count": 10,
     "metadata": {},
     "output_type": "execute_result"
    }
   ],
   "source": [
    "data.shape"
   ]
  },
  {
   "cell_type": "code",
   "execution_count": 23,
   "metadata": {},
   "outputs": [
    {
     "data": {
      "text/html": [
       "<div><div id=6f45219d-728d-4d41-9e00-0a9f44ddc92d style=\"display:none; background-color:#9D6CFF; color:white; width:200px; height:30px; padding-left:5px; border-radius:4px; flex-direction:row; justify-content:space-around; align-items:center;\" onmouseover=\"this.style.backgroundColor='#BA9BF8'\" onmouseout=\"this.style.backgroundColor='#9D6CFF'\" onclick=\"window.commands?.execute('create-mitosheet-from-dataframe-output');\">See Full Dataframe in Mito</div> <script> if (window.commands?.hasCommand('create-mitosheet-from-dataframe-output')) document.getElementById('6f45219d-728d-4d41-9e00-0a9f44ddc92d').style.display = 'flex' </script> <table border=\"1\" class=\"dataframe\">\n",
       "  <thead>\n",
       "    <tr style=\"text-align: right;\">\n",
       "      <th></th>\n",
       "      <th>voice.type</th>\n",
       "      <th>voice.potential_reach</th>\n",
       "      <th>voice.name</th>\n",
       "      <th>voice.miv.average</th>\n",
       "      <th>voice.inserted_at</th>\n",
       "      <th>voice.engagement_rate.quartiles</th>\n",
       "      <th>voice.engagement_rate.average</th>\n",
       "      <th>voice.country.name</th>\n",
       "      <th>voice.avg_miv</th>\n",
       "      <th>voice.avg_engagement_rate</th>\n",
       "      <th>social.user_mentions</th>\n",
       "      <th>social.profile.screen_name</th>\n",
       "      <th>social.profile.posts_count</th>\n",
       "      <th>social.profile.name</th>\n",
       "      <th>social.profile.following</th>\n",
       "      <th>social.profile.followers</th>\n",
       "      <th>social.profile.favourites_count</th>\n",
       "      <th>social.hashtags</th>\n",
       "      <th>social.engagement.views</th>\n",
       "      <th>social.engagement.shares</th>\n",
       "      <th>social.engagement.replies</th>\n",
       "      <th>social.engagement.likes</th>\n",
       "      <th>published_at</th>\n",
       "      <th>photo_text_enrichment.storytelling</th>\n",
       "      <th>photo_text_enrichment.prob</th>\n",
       "      <th>photo_text_enrichment.category</th>\n",
       "      <th>miv.value</th>\n",
       "      <th>miv.calculation_values.voice_type</th>\n",
       "      <th>miv.calculation_values.views</th>\n",
       "      <th>miv.calculation_values.shares</th>\n",
       "      <th>miv.calculation_values.replies</th>\n",
       "      <th>miv.calculation_values.likes</th>\n",
       "      <th>miv.calculation_values.content</th>\n",
       "      <th>miv.calculation_values.audience</th>\n",
       "      <th>location.country.name</th>\n",
       "      <th>last_updated_at</th>\n",
       "      <th>inserted_at</th>\n",
       "      <th>content</th>\n",
       "      <th>brand.voice_type</th>\n",
       "      <th>brand.ticker</th>\n",
       "      <th>brand.parkluBrandName</th>\n",
       "      <th>brand.name</th>\n",
       "      <th>brand.isActive</th>\n",
       "      <th>brand.industryLabel</th>\n",
       "      <th>brand.id</th>\n",
       "    </tr>\n",
       "  </thead>\n",
       "  <tbody>\n",
       "    <tr>\n",
       "      <th>0</th>\n",
       "      <td>influencer</td>\n",
       "      <td>10600000.0</td>\n",
       "      <td>\"Innka.star\"</td>\n",
       "      <td>NaN</td>\n",
       "      <td>2020-11-05T09:15:49.000+0000</td>\n",
       "      <td>NaN</td>\n",
       "      <td>NaN</td>\n",
       "      <td>Russia</td>\n",
       "      <td>NaN</td>\n",
       "      <td>NaN</td>\n",
       "      <td>None</td>\n",
       "      <td>innkastar</td>\n",
       "      <td>1091</td>\n",
       "      <td>Innkastar</td>\n",
       "      <td>33</td>\n",
       "      <td>10600000</td>\n",
       "      <td>131900000</td>\n",
       "      <td>None</td>\n",
       "      <td>1000000</td>\n",
       "      <td>57</td>\n",
       "      <td>2794</td>\n",
       "      <td>111200</td>\n",
       "      <td>2022-03-23T07:05:10.000Z</td>\n",
       "      <td>NaN</td>\n",
       "      <td>NaN</td>\n",
       "      <td>NaN</td>\n",
       "      <td>72882.601827</td>\n",
       "      <td>None</td>\n",
       "      <td>1000000</td>\n",
       "      <td>57</td>\n",
       "      <td>2794</td>\n",
       "      <td>111200</td>\n",
       "      <td>получилось 😎</td>\n",
       "      <td>10600000</td>\n",
       "      <td>Russia</td>\n",
       "      <td>2022-03-25T09:00:22.000Z</td>\n",
       "      <td>2022-03-25T08:00:20.000Z</td>\n",
       "      <td>получилось 😎</td>\n",
       "      <td>NaN</td>\n",
       "      <td>NaN</td>\n",
       "      <td>NaN</td>\n",
       "      <td>NaN</td>\n",
       "      <td>NaN</td>\n",
       "      <td>NaN</td>\n",
       "      <td>NaN</td>\n",
       "    </tr>\n",
       "    <tr>\n",
       "      <th>1</th>\n",
       "      <td>influencer</td>\n",
       "      <td>15000000.0</td>\n",
       "      <td>Emilio Martinez \"emartineeez\"</td>\n",
       "      <td>59010.103976</td>\n",
       "      <td>2020-11-05T09:14:18.000+0000</td>\n",
       "      <td>[0.16268625, 0.18020293609671847, 0.2019164054336468]</td>\n",
       "      <td>0.181306</td>\n",
       "      <td>Spain</td>\n",
       "      <td>59010.103976</td>\n",
       "      <td>0.181306</td>\n",
       "      <td>[ivanmartinez, 𝐒𝐭𝐢𝐯𝐞𝐧 𝐊𝐄𝐍🧛🏼, Boggi KEN🦹🏻]</td>\n",
       "      <td>emiliomartinez</td>\n",
       "      <td>1210</td>\n",
       "      <td>Emilio KEN🦸🏼‍♂️</td>\n",
       "      <td>1037</td>\n",
       "      <td>15200000</td>\n",
       "      <td>731000000</td>\n",
       "      <td>None</td>\n",
       "      <td>263200</td>\n",
       "      <td>520</td>\n",
       "      <td>741</td>\n",
       "      <td>46800</td>\n",
       "      <td>2022-03-22T18:20:54.000Z</td>\n",
       "      <td>NaN</td>\n",
       "      <td>NaN</td>\n",
       "      <td>NaN</td>\n",
       "      <td>39197.267670</td>\n",
       "      <td>None</td>\n",
       "      <td>263200</td>\n",
       "      <td>520</td>\n",
       "      <td>741</td>\n",
       "      <td>46800</td>\n",
       "      <td>uuuuu @ivanmartinez @𝐒𝐭𝐢𝐯𝐞𝐧 𝐊𝐄𝐍🧛🏼 @Boggi KEN🦹🏻</td>\n",
       "      <td>15200000</td>\n",
       "      <td>Spain</td>\n",
       "      <td>2022-03-25T09:00:27.000Z</td>\n",
       "      <td>2022-03-25T08:00:25.000Z</td>\n",
       "      <td>uuuuu @ivanmartinez @𝐒𝐭𝐢𝐯𝐞𝐧 𝐊𝐄𝐍🧛🏼 @Boggi KEN🦹🏻</td>\n",
       "      <td>NaN</td>\n",
       "      <td>NaN</td>\n",
       "      <td>NaN</td>\n",
       "      <td>NaN</td>\n",
       "      <td>NaN</td>\n",
       "      <td>NaN</td>\n",
       "      <td>NaN</td>\n",
       "    </tr>\n",
       "  </tbody>\n",
       "</table></div>"
      ],
      "text/plain": [
       "   voice.type  voice.potential_reach                     voice.name  \\\n",
       "0  influencer             10600000.0                   \"Innka.star\"   \n",
       "1  influencer             15000000.0  Emilio Martinez \"emartineeez\"   \n",
       "\n",
       "   voice.miv.average             voice.inserted_at  \\\n",
       "0                NaN  2020-11-05T09:15:49.000+0000   \n",
       "1       59010.103976  2020-11-05T09:14:18.000+0000   \n",
       "\n",
       "                     voice.engagement_rate.quartiles  \\\n",
       "0                                                NaN   \n",
       "1  [0.16268625, 0.18020293609671847, 0.2019164054...   \n",
       "\n",
       "   voice.engagement_rate.average voice.country.name  voice.avg_miv  \\\n",
       "0                            NaN             Russia            NaN   \n",
       "1                       0.181306              Spain   59010.103976   \n",
       "\n",
       "   voice.avg_engagement_rate                       social.user_mentions  \\\n",
       "0                        NaN                                       None   \n",
       "1                   0.181306  [ivanmartinez, 𝐒𝐭𝐢𝐯𝐞𝐧 𝐊𝐄𝐍🧛🏼, Boggi KEN🦹🏻]   \n",
       "\n",
       "  social.profile.screen_name  social.profile.posts_count social.profile.name  \\\n",
       "0                  innkastar                        1091           Innkastar   \n",
       "1             emiliomartinez                        1210     Emilio KEN🦸🏼‍♂️   \n",
       "\n",
       "   social.profile.following  social.profile.followers  \\\n",
       "0                        33                  10600000   \n",
       "1                      1037                  15200000   \n",
       "\n",
       "   social.profile.favourites_count social.hashtags  social.engagement.views  \\\n",
       "0                        131900000            None                  1000000   \n",
       "1                        731000000            None                   263200   \n",
       "\n",
       "   social.engagement.shares  social.engagement.replies  \\\n",
       "0                        57                       2794   \n",
       "1                       520                        741   \n",
       "\n",
       "   social.engagement.likes              published_at  \\\n",
       "0                   111200  2022-03-23T07:05:10.000Z   \n",
       "1                    46800  2022-03-22T18:20:54.000Z   \n",
       "\n",
       "  photo_text_enrichment.storytelling  photo_text_enrichment.prob  \\\n",
       "0                                NaN                         NaN   \n",
       "1                                NaN                         NaN   \n",
       "\n",
       "  photo_text_enrichment.category     miv.value  \\\n",
       "0                            NaN  72882.601827   \n",
       "1                            NaN  39197.267670   \n",
       "\n",
       "  miv.calculation_values.voice_type  miv.calculation_values.views  \\\n",
       "0                              None                       1000000   \n",
       "1                              None                        263200   \n",
       "\n",
       "   miv.calculation_values.shares  miv.calculation_values.replies  \\\n",
       "0                             57                            2794   \n",
       "1                            520                             741   \n",
       "\n",
       "   miv.calculation_values.likes  \\\n",
       "0                        111200   \n",
       "1                         46800   \n",
       "\n",
       "                   miv.calculation_values.content  \\\n",
       "0                                    получилось 😎   \n",
       "1  uuuuu @ivanmartinez @𝐒𝐭𝐢𝐯𝐞𝐧 𝐊𝐄𝐍🧛🏼 @Boggi KEN🦹🏻   \n",
       "\n",
       "   miv.calculation_values.audience location.country.name  \\\n",
       "0                         10600000                Russia   \n",
       "1                         15200000                 Spain   \n",
       "\n",
       "            last_updated_at               inserted_at  \\\n",
       "0  2022-03-25T09:00:22.000Z  2022-03-25T08:00:20.000Z   \n",
       "1  2022-03-25T09:00:27.000Z  2022-03-25T08:00:25.000Z   \n",
       "\n",
       "                                          content brand.voice_type  \\\n",
       "0                                    получилось 😎              NaN   \n",
       "1  uuuuu @ivanmartinez @𝐒𝐭𝐢𝐯𝐞𝐧 𝐊𝐄𝐍🧛🏼 @Boggi KEN🦹🏻              NaN   \n",
       "\n",
       "  brand.ticker brand.parkluBrandName brand.name brand.isActive  \\\n",
       "0          NaN                   NaN        NaN            NaN   \n",
       "1          NaN                   NaN        NaN            NaN   \n",
       "\n",
       "  brand.industryLabel brand.id  \n",
       "0                 NaN      NaN  \n",
       "1                 NaN      NaN  "
      ]
     },
     "execution_count": 23,
     "metadata": {},
     "output_type": "execute_result"
    }
   ],
   "source": [
    "data.head(2)"
   ]
  },
  {
   "cell_type": "code",
   "execution_count": 24,
   "metadata": {},
   "outputs": [
    {
     "data": {
      "text/html": [
       "<div><div id=44d12c42-b84b-4836-8594-8589b1088d67 style=\"display:none; background-color:#9D6CFF; color:white; width:200px; height:30px; padding-left:5px; border-radius:4px; flex-direction:row; justify-content:space-around; align-items:center;\" onmouseover=\"this.style.backgroundColor='#BA9BF8'\" onmouseout=\"this.style.backgroundColor='#9D6CFF'\" onclick=\"window.commands?.execute('create-mitosheet-from-dataframe-output');\">See Full Dataframe in Mito</div> <script> if (window.commands?.hasCommand('create-mitosheet-from-dataframe-output')) document.getElementById('44d12c42-b84b-4836-8594-8589b1088d67').style.display = 'flex' </script> <table border=\"1\" class=\"dataframe\">\n",
       "  <thead>\n",
       "    <tr style=\"text-align: right;\">\n",
       "      <th></th>\n",
       "      <th>voice.type</th>\n",
       "      <th>voice.potential_reach</th>\n",
       "      <th>voice.name</th>\n",
       "      <th>voice.miv.average</th>\n",
       "      <th>voice.inserted_at</th>\n",
       "      <th>voice.engagement_rate.quartiles</th>\n",
       "      <th>voice.engagement_rate.average</th>\n",
       "      <th>voice.country.name</th>\n",
       "      <th>voice.avg_miv</th>\n",
       "      <th>voice.avg_engagement_rate</th>\n",
       "      <th>social.user_mentions</th>\n",
       "      <th>social.profile.screen_name</th>\n",
       "      <th>social.profile.posts_count</th>\n",
       "      <th>social.profile.name</th>\n",
       "      <th>social.profile.following</th>\n",
       "      <th>social.profile.followers</th>\n",
       "      <th>social.profile.favourites_count</th>\n",
       "      <th>social.hashtags</th>\n",
       "      <th>social.engagement.views</th>\n",
       "      <th>social.engagement.shares</th>\n",
       "      <th>social.engagement.replies</th>\n",
       "      <th>social.engagement.likes</th>\n",
       "      <th>published_at</th>\n",
       "      <th>photo_text_enrichment.storytelling</th>\n",
       "      <th>photo_text_enrichment.prob</th>\n",
       "      <th>photo_text_enrichment.category</th>\n",
       "      <th>miv.value</th>\n",
       "      <th>miv.calculation_values.voice_type</th>\n",
       "      <th>miv.calculation_values.views</th>\n",
       "      <th>miv.calculation_values.shares</th>\n",
       "      <th>miv.calculation_values.replies</th>\n",
       "      <th>miv.calculation_values.likes</th>\n",
       "      <th>miv.calculation_values.content</th>\n",
       "      <th>miv.calculation_values.audience</th>\n",
       "      <th>location.country.name</th>\n",
       "      <th>last_updated_at</th>\n",
       "      <th>inserted_at</th>\n",
       "      <th>content</th>\n",
       "      <th>brand.voice_type</th>\n",
       "      <th>brand.ticker</th>\n",
       "      <th>brand.parkluBrandName</th>\n",
       "      <th>brand.name</th>\n",
       "      <th>brand.isActive</th>\n",
       "      <th>brand.industryLabel</th>\n",
       "      <th>brand.id</th>\n",
       "    </tr>\n",
       "  </thead>\n",
       "  <tbody>\n",
       "    <tr>\n",
       "      <th>0</th>\n",
       "      <td>influencer</td>\n",
       "      <td>10600000.0</td>\n",
       "      <td>\"Innka.star\"</td>\n",
       "      <td>NaN</td>\n",
       "      <td>2020-11-05T09:15:49.000+0000</td>\n",
       "      <td>NaN</td>\n",
       "      <td>NaN</td>\n",
       "      <td>Russia</td>\n",
       "      <td>NaN</td>\n",
       "      <td>NaN</td>\n",
       "      <td>None</td>\n",
       "      <td>innkastar</td>\n",
       "      <td>1091</td>\n",
       "      <td>Innkastar</td>\n",
       "      <td>33</td>\n",
       "      <td>10600000</td>\n",
       "      <td>131900000</td>\n",
       "      <td>None</td>\n",
       "      <td>1000000</td>\n",
       "      <td>57</td>\n",
       "      <td>2794</td>\n",
       "      <td>111200</td>\n",
       "      <td>2022-03-23T07:05:10.000Z</td>\n",
       "      <td>NaN</td>\n",
       "      <td>NaN</td>\n",
       "      <td>NaN</td>\n",
       "      <td>72882.601827</td>\n",
       "      <td>None</td>\n",
       "      <td>1000000</td>\n",
       "      <td>57</td>\n",
       "      <td>2794</td>\n",
       "      <td>111200</td>\n",
       "      <td>получилось 😎</td>\n",
       "      <td>10600000</td>\n",
       "      <td>Russia</td>\n",
       "      <td>2022-03-25T09:00:22.000Z</td>\n",
       "      <td>2022-03-25T08:00:20.000Z</td>\n",
       "      <td>получилось 😎</td>\n",
       "      <td>NaN</td>\n",
       "      <td>NaN</td>\n",
       "      <td>NaN</td>\n",
       "      <td>NaN</td>\n",
       "      <td>NaN</td>\n",
       "      <td>NaN</td>\n",
       "      <td>NaN</td>\n",
       "    </tr>\n",
       "    <tr>\n",
       "      <th>1</th>\n",
       "      <td>influencer</td>\n",
       "      <td>15000000.0</td>\n",
       "      <td>Emilio Martinez \"emartineeez\"</td>\n",
       "      <td>59010.103976</td>\n",
       "      <td>2020-11-05T09:14:18.000+0000</td>\n",
       "      <td>[0.16268625, 0.18020293609671847, 0.2019164054336468]</td>\n",
       "      <td>0.181306</td>\n",
       "      <td>Spain</td>\n",
       "      <td>59010.103976</td>\n",
       "      <td>0.181306</td>\n",
       "      <td>[ivanmartinez, 𝐒𝐭𝐢𝐯𝐞𝐧 𝐊𝐄𝐍🧛🏼, Boggi KEN🦹🏻]</td>\n",
       "      <td>emiliomartinez</td>\n",
       "      <td>1210</td>\n",
       "      <td>Emilio KEN🦸🏼‍♂️</td>\n",
       "      <td>1037</td>\n",
       "      <td>15200000</td>\n",
       "      <td>731000000</td>\n",
       "      <td>None</td>\n",
       "      <td>263200</td>\n",
       "      <td>520</td>\n",
       "      <td>741</td>\n",
       "      <td>46800</td>\n",
       "      <td>2022-03-22T18:20:54.000Z</td>\n",
       "      <td>NaN</td>\n",
       "      <td>NaN</td>\n",
       "      <td>NaN</td>\n",
       "      <td>39197.267670</td>\n",
       "      <td>None</td>\n",
       "      <td>263200</td>\n",
       "      <td>520</td>\n",
       "      <td>741</td>\n",
       "      <td>46800</td>\n",
       "      <td>uuuuu @ivanmartinez @𝐒𝐭𝐢𝐯𝐞𝐧 𝐊𝐄𝐍🧛🏼 @Boggi KEN🦹🏻</td>\n",
       "      <td>15200000</td>\n",
       "      <td>Spain</td>\n",
       "      <td>2022-03-25T09:00:27.000Z</td>\n",
       "      <td>2022-03-25T08:00:25.000Z</td>\n",
       "      <td>uuuuu @ivanmartinez @𝐒𝐭𝐢𝐯𝐞𝐧 𝐊𝐄𝐍🧛🏼 @Boggi KEN🦹🏻</td>\n",
       "      <td>NaN</td>\n",
       "      <td>NaN</td>\n",
       "      <td>NaN</td>\n",
       "      <td>NaN</td>\n",
       "      <td>NaN</td>\n",
       "      <td>NaN</td>\n",
       "      <td>NaN</td>\n",
       "    </tr>\n",
       "  </tbody>\n",
       "</table></div>"
      ],
      "text/plain": [
       "   voice.type  voice.potential_reach                     voice.name  \\\n",
       "0  influencer             10600000.0                   \"Innka.star\"   \n",
       "1  influencer             15000000.0  Emilio Martinez \"emartineeez\"   \n",
       "\n",
       "   voice.miv.average             voice.inserted_at  \\\n",
       "0                NaN  2020-11-05T09:15:49.000+0000   \n",
       "1       59010.103976  2020-11-05T09:14:18.000+0000   \n",
       "\n",
       "                     voice.engagement_rate.quartiles  \\\n",
       "0                                                NaN   \n",
       "1  [0.16268625, 0.18020293609671847, 0.2019164054...   \n",
       "\n",
       "   voice.engagement_rate.average voice.country.name  voice.avg_miv  \\\n",
       "0                            NaN             Russia            NaN   \n",
       "1                       0.181306              Spain   59010.103976   \n",
       "\n",
       "   voice.avg_engagement_rate                       social.user_mentions  \\\n",
       "0                        NaN                                       None   \n",
       "1                   0.181306  [ivanmartinez, 𝐒𝐭𝐢𝐯𝐞𝐧 𝐊𝐄𝐍🧛🏼, Boggi KEN🦹🏻]   \n",
       "\n",
       "  social.profile.screen_name  social.profile.posts_count social.profile.name  \\\n",
       "0                  innkastar                        1091           Innkastar   \n",
       "1             emiliomartinez                        1210     Emilio KEN🦸🏼‍♂️   \n",
       "\n",
       "   social.profile.following  social.profile.followers  \\\n",
       "0                        33                  10600000   \n",
       "1                      1037                  15200000   \n",
       "\n",
       "   social.profile.favourites_count social.hashtags  social.engagement.views  \\\n",
       "0                        131900000            None                  1000000   \n",
       "1                        731000000            None                   263200   \n",
       "\n",
       "   social.engagement.shares  social.engagement.replies  \\\n",
       "0                        57                       2794   \n",
       "1                       520                        741   \n",
       "\n",
       "   social.engagement.likes              published_at  \\\n",
       "0                   111200  2022-03-23T07:05:10.000Z   \n",
       "1                    46800  2022-03-22T18:20:54.000Z   \n",
       "\n",
       "  photo_text_enrichment.storytelling  photo_text_enrichment.prob  \\\n",
       "0                                NaN                         NaN   \n",
       "1                                NaN                         NaN   \n",
       "\n",
       "  photo_text_enrichment.category     miv.value  \\\n",
       "0                            NaN  72882.601827   \n",
       "1                            NaN  39197.267670   \n",
       "\n",
       "  miv.calculation_values.voice_type  miv.calculation_values.views  \\\n",
       "0                              None                       1000000   \n",
       "1                              None                        263200   \n",
       "\n",
       "   miv.calculation_values.shares  miv.calculation_values.replies  \\\n",
       "0                             57                            2794   \n",
       "1                            520                             741   \n",
       "\n",
       "   miv.calculation_values.likes  \\\n",
       "0                        111200   \n",
       "1                         46800   \n",
       "\n",
       "                   miv.calculation_values.content  \\\n",
       "0                                    получилось 😎   \n",
       "1  uuuuu @ivanmartinez @𝐒𝐭𝐢𝐯𝐞𝐧 𝐊𝐄𝐍🧛🏼 @Boggi KEN🦹🏻   \n",
       "\n",
       "   miv.calculation_values.audience location.country.name  \\\n",
       "0                         10600000                Russia   \n",
       "1                         15200000                 Spain   \n",
       "\n",
       "            last_updated_at               inserted_at  \\\n",
       "0  2022-03-25T09:00:22.000Z  2022-03-25T08:00:20.000Z   \n",
       "1  2022-03-25T09:00:27.000Z  2022-03-25T08:00:25.000Z   \n",
       "\n",
       "                                          content brand.voice_type  \\\n",
       "0                                    получилось 😎              NaN   \n",
       "1  uuuuu @ivanmartinez @𝐒𝐭𝐢𝐯𝐞𝐧 𝐊𝐄𝐍🧛🏼 @Boggi KEN🦹🏻              NaN   \n",
       "\n",
       "  brand.ticker brand.parkluBrandName brand.name brand.isActive  \\\n",
       "0          NaN                   NaN        NaN            NaN   \n",
       "1          NaN                   NaN        NaN            NaN   \n",
       "\n",
       "  brand.industryLabel brand.id  \n",
       "0                 NaN      NaN  \n",
       "1                 NaN      NaN  "
      ]
     },
     "execution_count": 24,
     "metadata": {},
     "output_type": "execute_result"
    }
   ],
   "source": [
    "data.head(2)"
   ]
  },
  {
   "cell_type": "code",
   "execution_count": 21,
   "metadata": {},
   "outputs": [
    {
     "data": {
      "text/plain": [
       "(0, 0)"
      ]
     },
     "execution_count": 21,
     "metadata": {},
     "output_type": "execute_result"
    }
   ],
   "source": [
    "#data['voice.type'].unique()\n",
    "data['social.engagement.replies'].isnull().sum(), data['miv.calculation_values.replies'].isnull().sum()"
   ]
  },
  {
   "cell_type": "code",
   "execution_count": 17,
   "metadata": {},
   "outputs": [],
   "source": [
    "# drop 'em 2nd run\n",
    "data = data.drop(columns=['voice.screen_name', 'voice.country.iso', 'id_from_provider', 'id'])"
   ]
  },
  {
   "cell_type": "code",
   "execution_count": 25,
   "metadata": {},
   "outputs": [],
   "source": [
    "# drop 'em 3rd run\n",
    "data = data.drop(columns=['miv.calculation_values.views', 'miv.calculation_values.shares', 'miv.calculation_values.replies',\n",
    "                          'miv.calculation_values.likes'])"
   ]
  },
  {
   "cell_type": "code",
   "execution_count": 26,
   "metadata": {},
   "outputs": [
    {
     "data": {
      "text/plain": [
       "(1395847, 41)"
      ]
     },
     "execution_count": 26,
     "metadata": {},
     "output_type": "execute_result"
    }
   ],
   "source": [
    "data.shape"
   ]
  },
  {
   "attachments": {},
   "cell_type": "markdown",
   "metadata": {},
   "source": [
    "## ***`2) Rename & Reorder`***\n",
    "---"
   ]
  },
  {
   "cell_type": "code",
   "execution_count": 27,
   "metadata": {},
   "outputs": [
    {
     "data": {
      "text/plain": [
       "Index(['voice.type', 'voice.potential_reach', 'voice.name',\n",
       "       'voice.miv.average', 'voice.inserted_at',\n",
       "       'voice.engagement_rate.quartiles', 'voice.engagement_rate.average',\n",
       "       'voice.country.name', 'voice.avg_miv', 'voice.avg_engagement_rate',\n",
       "       'social.user_mentions', 'social.profile.screen_name',\n",
       "       'social.profile.posts_count', 'social.profile.name',\n",
       "       'social.profile.following', 'social.profile.followers',\n",
       "       'social.profile.favourites_count', 'social.hashtags',\n",
       "       'social.engagement.views', 'social.engagement.shares',\n",
       "       'social.engagement.replies', 'social.engagement.likes', 'published_at',\n",
       "       'photo_text_enrichment.storytelling', 'photo_text_enrichment.prob',\n",
       "       'photo_text_enrichment.category', 'miv.value',\n",
       "       'miv.calculation_values.voice_type', 'miv.calculation_values.content',\n",
       "       'miv.calculation_values.audience', 'location.country.name',\n",
       "       'last_updated_at', 'inserted_at', 'content', 'brand.voice_type',\n",
       "       'brand.ticker', 'brand.parkluBrandName', 'brand.name', 'brand.isActive',\n",
       "       'brand.industryLabel', 'brand.id'],\n",
       "      dtype='object')"
      ]
     },
     "execution_count": 27,
     "metadata": {},
     "output_type": "execute_result"
    }
   ],
   "source": [
    "data.columns"
   ]
  },
  {
   "cell_type": "code",
   "execution_count": null,
   "metadata": {},
   "outputs": [],
   "source": [
    "#data = data.reindex(columns=['voice.name'])"
   ]
  },
  {
   "cell_type": "code",
   "execution_count": null,
   "metadata": {},
   "outputs": [],
   "source": []
  },
  {
   "cell_type": "code",
   "execution_count": null,
   "metadata": {},
   "outputs": [],
   "source": []
  },
  {
   "attachments": {},
   "cell_type": "markdown",
   "metadata": {},
   "source": [
    "## ***`3) Column Density Investigation`***\n",
    "---"
   ]
  },
  {
   "attachments": {},
   "cell_type": "markdown",
   "metadata": {},
   "source": [
    "## ***`4) Data Type Casting`***\n",
    "---"
   ]
  },
  {
   "attachments": {},
   "cell_type": "markdown",
   "metadata": {},
   "source": [
    "## ***`5) Detailed Column Investigation`***\n",
    "---"
   ]
  },
  {
   "attachments": {},
   "cell_type": "markdown",
   "metadata": {},
   "source": [
    "## ***`6) Write Cleaned Data to File`***\n",
    "---\n"
   ]
  },
  {
   "cell_type": "code",
   "execution_count": 2,
   "metadata": {},
   "outputs": [
    {
     "data": {
      "text/plain": [
       "218.5"
      ]
     },
     "execution_count": 2,
     "metadata": {},
     "output_type": "execute_result"
    }
   ],
   "source": [
    "437/2"
   ]
  },
  {
   "cell_type": "code",
   "execution_count": 3,
   "metadata": {},
   "outputs": [
    {
     "data": {
      "text/plain": [
       "570"
      ]
     },
     "execution_count": 3,
     "metadata": {},
     "output_type": "execute_result"
    }
   ],
   "source": [
    "285*2"
   ]
  },
  {
   "cell_type": "code",
   "execution_count": null,
   "metadata": {},
   "outputs": [],
   "source": []
  }
 ],
 "metadata": {
  "kernelspec": {
   "display_name": "Python 3.11.0 64-bit",
   "language": "python",
   "name": "python3"
  },
  "language_info": {
   "codemirror_mode": {
    "name": "ipython",
    "version": 3
   },
   "file_extension": ".py",
   "mimetype": "text/x-python",
   "name": "python",
   "nbconvert_exporter": "python",
   "pygments_lexer": "ipython3",
   "version": "3.11.0"
  },
  "orig_nbformat": 4,
  "vscode": {
   "interpreter": {
    "hash": "aee8b7b246df8f9039afb4144a1f6fd8d2ca17a180786b69acc140d282b71a49"
   }
  }
 },
 "nbformat": 4,
 "nbformat_minor": 2
}
