{
 "cells": [
  {
   "attachments": {},
   "cell_type": "markdown",
   "metadata": {},
   "source": [
    "# ***`Data Cleaning Notebook`***\n",
    "---\n",
    "---\n",
    "---"
   ]
  },
  {
   "cell_type": "code",
   "execution_count": 2,
   "metadata": {},
   "outputs": [],
   "source": [
    "import pandas as pd\n",
    "pd.set_option('display.max_columns', None)  # display all columns in pandas dataframe"
   ]
  },
  {
   "attachments": {},
   "cell_type": "markdown",
   "metadata": {},
   "source": [
    "### `Load & Inspect 4 TikTok Files`\n",
    "---"
   ]
  },
  {
   "cell_type": "code",
   "execution_count": null,
   "metadata": {},
   "outputs": [],
   "source": [
    "d1 = pd.read_pickle(\"Data/chunk_1.pickle\")"
   ]
  },
  {
   "cell_type": "code",
   "execution_count": null,
   "metadata": {},
   "outputs": [],
   "source": [
    "print(d1.shape)\n",
    "d1.head(3)"
   ]
  },
  {
   "cell_type": "code",
   "execution_count": null,
   "metadata": {},
   "outputs": [],
   "source": [
    "d2 = pd.read_pickle(\"Data/chunk_2.pickle\")"
   ]
  },
  {
   "cell_type": "code",
   "execution_count": null,
   "metadata": {},
   "outputs": [],
   "source": [
    "print(d2.shape)\n",
    "d2.head(3)"
   ]
  },
  {
   "cell_type": "code",
   "execution_count": null,
   "metadata": {},
   "outputs": [],
   "source": [
    "d3 = pd.read_pickle(\"Data/chunk_3.pickle\")"
   ]
  },
  {
   "cell_type": "code",
   "execution_count": null,
   "metadata": {},
   "outputs": [],
   "source": [
    "print(d3.shape)\n",
    "d3.head(3)"
   ]
  },
  {
   "cell_type": "code",
   "execution_count": null,
   "metadata": {},
   "outputs": [],
   "source": [
    "d4 = pd.read_pickle(\"Data/chunk_4.pickle\")"
   ]
  },
  {
   "cell_type": "code",
   "execution_count": null,
   "metadata": {},
   "outputs": [],
   "source": [
    "print(d4.shape)\n",
    "d4.head(3)"
   ]
  },
  {
   "attachments": {},
   "cell_type": "markdown",
   "metadata": {},
   "source": [
    "### `Concatenate to one big table:`\n",
    "---"
   ]
  },
  {
   "cell_type": "code",
   "execution_count": null,
   "metadata": {},
   "outputs": [],
   "source": [
    "data = pd.concat([d1, d2, d3, d4], ignore_index=True)"
   ]
  },
  {
   "cell_type": "code",
   "execution_count": null,
   "metadata": {},
   "outputs": [],
   "source": [
    "print(data.shape)\n",
    "data.head(3)"
   ]
  },
  {
   "attachments": {},
   "cell_type": "markdown",
   "metadata": {},
   "source": [
    "### `Write merged data to a file`\n",
    "---"
   ]
  },
  {
   "cell_type": "code",
   "execution_count": null,
   "metadata": {},
   "outputs": [],
   "source": [
    "data.to_pickle(\"Data/big_dirty.pickle\")"
   ]
  },
  {
   "attachments": {},
   "cell_type": "markdown",
   "metadata": {},
   "source": [
    "# ***`Cleaning Process`***\n",
    "---\n",
    "---\n",
    "### 1) `Drop pointless columns`\n",
    "### 2) `Rename & reorder columns`\n",
    "### 3) `Check percentage of NaN's for every column (Density)`\n",
    "### 4) `Data type casting`\n",
    "### 5) `Detailed investigation of columns`\n",
    "### 6) `Read cleaned Data to file`"
   ]
  },
  {
   "cell_type": "code",
   "execution_count": 3,
   "metadata": {},
   "outputs": [
    {
     "data": {
      "text/plain": [
       "(1395847, 96)"
      ]
     },
     "execution_count": 3,
     "metadata": {},
     "output_type": "execute_result"
    }
   ],
   "source": [
    "data = pd.read_pickle(\"Data/big_dirty.pickle\")\n",
    "data.shape"
   ]
  },
  {
   "attachments": {},
   "cell_type": "markdown",
   "metadata": {},
   "source": [
    "## ***`1) Drop Columns`***\n",
    "---"
   ]
  },
  {
   "attachments": {},
   "cell_type": "markdown",
   "metadata": {},
   "source": [
    "#### a) Drop all dead columns:"
   ]
  },
  {
   "cell_type": "code",
   "execution_count": 4,
   "metadata": {},
   "outputs": [],
   "source": [
    "data.dropna(how='all', axis=1, inplace=True)"
   ]
  },
  {
   "cell_type": "code",
   "execution_count": 5,
   "metadata": {},
   "outputs": [
    {
     "data": {
      "text/plain": [
       "(1395847, 69)"
      ]
     },
     "execution_count": 5,
     "metadata": {},
     "output_type": "execute_result"
    }
   ],
   "source": [
    "data.shape # removed 27 dead columns, successfully!"
   ]
  },
  {
   "attachments": {},
   "cell_type": "markdown",
   "metadata": {},
   "source": [
    "#### b) Drop further pointless columns:"
   ]
  },
  {
   "cell_type": "code",
   "execution_count": 6,
   "metadata": {},
   "outputs": [
    {
     "data": {
      "text/html": [
       "<div><div id=6ff988a9-7bcb-42ef-b3e7-5f05b3f673fa style=\"display:none; background-color:#9D6CFF; color:white; width:200px; height:30px; padding-left:5px; border-radius:4px; flex-direction:row; justify-content:space-around; align-items:center;\" onmouseover=\"this.style.backgroundColor='#BA9BF8'\" onmouseout=\"this.style.backgroundColor='#9D6CFF'\" onclick=\"window.commands?.execute('create-mitosheet-from-dataframe-output');\">See Full Dataframe in Mito</div> <script> if (window.commands?.hasCommand('create-mitosheet-from-dataframe-output')) document.getElementById('6ff988a9-7bcb-42ef-b3e7-5f05b3f673fa').style.display = 'flex' </script> <table border=\"1\" class=\"dataframe\">\n",
       "  <thead>\n",
       "    <tr style=\"text-align: right;\">\n",
       "      <th></th>\n",
       "      <th>id</th>\n",
       "      <th>id_from_provider</th>\n",
       "      <th>content</th>\n",
       "      <th>published_at</th>\n",
       "      <th>inserted_at</th>\n",
       "      <th>last_updated_at</th>\n",
       "      <th>url</th>\n",
       "      <th>provider</th>\n",
       "      <th>topics</th>\n",
       "      <th>images</th>\n",
       "      <th>channel.id</th>\n",
       "      <th>channel.name</th>\n",
       "      <th>language.iso_code</th>\n",
       "      <th>language.name</th>\n",
       "      <th>location.country.iso_code</th>\n",
       "      <th>location.country.name</th>\n",
       "      <th>miv.calculation_values.audience</th>\n",
       "      <th>miv.calculation_values.channel_type_id</th>\n",
       "      <th>miv.calculation_values.content</th>\n",
       "      <th>miv.calculation_values.formula_version</th>\n",
       "      <th>miv.calculation_values.likes</th>\n",
       "      <th>miv.calculation_values.replies</th>\n",
       "      <th>miv.calculation_values.shares</th>\n",
       "      <th>miv.calculation_values.title</th>\n",
       "      <th>miv.calculation_values.views</th>\n",
       "      <th>miv.calculation_values.voice_id</th>\n",
       "      <th>miv.calculation_values.voice_type</th>\n",
       "      <th>miv.value</th>\n",
       "      <th>social.engagement.likes</th>\n",
       "      <th>social.engagement.replies</th>\n",
       "      <th>social.engagement.shares</th>\n",
       "      <th>social.engagement.views</th>\n",
       "      <th>social.hashtags</th>\n",
       "      <th>social.profile.avatar_url</th>\n",
       "      <th>social.profile.favourites_count</th>\n",
       "      <th>social.profile.followers</th>\n",
       "      <th>social.profile.following</th>\n",
       "      <th>social.profile.id</th>\n",
       "      <th>social.profile.name</th>\n",
       "      <th>social.profile.posts_count</th>\n",
       "      <th>social.profile.screen_name</th>\n",
       "      <th>social.profile.url</th>\n",
       "      <th>social.user_mentions</th>\n",
       "      <th>voice.avg_engagement_rate</th>\n",
       "      <th>voice.avg_miv</th>\n",
       "      <th>voice.channel</th>\n",
       "      <th>voice.id</th>\n",
       "      <th>voice.image_url</th>\n",
       "      <th>voice.inserted_at</th>\n",
       "      <th>voice.name</th>\n",
       "      <th>voice.potential_reach</th>\n",
       "      <th>voice.screen_name</th>\n",
       "      <th>voice.type</th>\n",
       "      <th>voice.url</th>\n",
       "      <th>voice.country.iso</th>\n",
       "      <th>voice.country.name</th>\n",
       "      <th>voice.engagement_rate.average</th>\n",
       "      <th>voice.engagement_rate.quartiles</th>\n",
       "      <th>voice.miv.average</th>\n",
       "      <th>brand.id</th>\n",
       "      <th>brand.voice_type</th>\n",
       "      <th>brand.ticker</th>\n",
       "      <th>photo_text_enrichment.category</th>\n",
       "      <th>photo_text_enrichment.storytelling</th>\n",
       "      <th>photo_text_enrichment.prob</th>\n",
       "      <th>brand.name</th>\n",
       "      <th>brand.isActive</th>\n",
       "      <th>brand.industryLabel</th>\n",
       "      <th>brand.parkluBrandName</th>\n",
       "    </tr>\n",
       "  </thead>\n",
       "  <tbody>\n",
       "    <tr>\n",
       "      <th>0</th>\n",
       "      <td>16481952200413205868</td>\n",
       "      <td>7078188176996699394</td>\n",
       "      <td>получилось 😎</td>\n",
       "      <td>2022-03-23T07:05:10.000Z</td>\n",
       "      <td>2022-03-25T08:00:20.000Z</td>\n",
       "      <td>2022-03-25T09:00:22.000Z</td>\n",
       "      <td>https://www.tiktok.com/@innkastar/video/7078188176996699394</td>\n",
       "      <td>purple</td>\n",
       "      <td>[]</td>\n",
       "      <td>[{'thumb_url': None, 'url': 'https://p16-sign-sg.tiktokcdn.com/obj/tos-alisg-p-0037/b975bd47561b41db91f932386559ef05?x-expires=1648184400&amp;x-signature=1d3w6P73brX2Opjo7EErc9cqx9o%3D'}]</td>\n",
       "      <td>41</td>\n",
       "      <td>tiktok</td>\n",
       "      <td>und</td>\n",
       "      <td>Undefined</td>\n",
       "      <td>ru</td>\n",
       "      <td>Russia</td>\n",
       "      <td>10600000</td>\n",
       "      <td>41</td>\n",
       "      <td>получилось 😎</td>\n",
       "      <td>formula::Document::MIV::SocialMedia::V2_5</td>\n",
       "      <td>111200</td>\n",
       "      <td>2794</td>\n",
       "      <td>57</td>\n",
       "      <td></td>\n",
       "      <td>1000000</td>\n",
       "      <td>None</td>\n",
       "      <td>None</td>\n",
       "      <td>72882.601827</td>\n",
       "      <td>111200</td>\n",
       "      <td>2794</td>\n",
       "      <td>57</td>\n",
       "      <td>1000000</td>\n",
       "      <td>None</td>\n",
       "      <td>https://p16-sign-sg.tiktokcdn.com/musically-maliva-obj/e12135a3d987abeff18510e6ea6a02fb~c5_720x720.jpeg?x-expires=1603544400&amp;x-signature=O2bSvskYUVCEAhOTvaSHicKEVtc%3D</td>\n",
       "      <td>131900000</td>\n",
       "      <td>10600000</td>\n",
       "      <td>33</td>\n",
       "      <td>6614044423573946373</td>\n",
       "      <td>Innkastar</td>\n",
       "      <td>1091</td>\n",
       "      <td>innkastar</td>\n",
       "      <td>https://www.tiktok.com/@innkastar</td>\n",
       "      <td>None</td>\n",
       "      <td>NaN</td>\n",
       "      <td>NaN</td>\n",
       "      <td>tiktok</td>\n",
       "      <td>6614044423573946373</td>\n",
       "      <td>https://p16-sign-sg.tiktokcdn.com/musically-maliva-obj/e12135a3d987abeff18510e6ea6a02fb~c5_720x720.jpeg?x-expires=1603544400&amp;x-signature=O2bSvskYUVCEAhOTvaSHicKEVtc%3D</td>\n",
       "      <td>2020-11-05T09:15:49.000+0000</td>\n",
       "      <td>\"Innka.star\"</td>\n",
       "      <td>10600000.0</td>\n",
       "      <td>innkastar</td>\n",
       "      <td>influencer</td>\n",
       "      <td>https://tiktok.com/@innkastar</td>\n",
       "      <td>RU</td>\n",
       "      <td>Russia</td>\n",
       "      <td>NaN</td>\n",
       "      <td>NaN</td>\n",
       "      <td>NaN</td>\n",
       "      <td>NaN</td>\n",
       "      <td>NaN</td>\n",
       "      <td>NaN</td>\n",
       "      <td>NaN</td>\n",
       "      <td>NaN</td>\n",
       "      <td>NaN</td>\n",
       "      <td>NaN</td>\n",
       "      <td>NaN</td>\n",
       "      <td>NaN</td>\n",
       "      <td>NaN</td>\n",
       "    </tr>\n",
       "    <tr>\n",
       "      <th>1</th>\n",
       "      <td>16481952250411139961</td>\n",
       "      <td>7077991228100611334</td>\n",
       "      <td>uuuuu @ivanmartinez @𝐒𝐭𝐢𝐯𝐞𝐧 𝐊𝐄𝐍🧛🏼 @Boggi KEN🦹🏻</td>\n",
       "      <td>2022-03-22T18:20:54.000Z</td>\n",
       "      <td>2022-03-25T08:00:25.000Z</td>\n",
       "      <td>2022-03-25T09:00:27.000Z</td>\n",
       "      <td>https://www.tiktok.com/@emiliomartinez/video/7077991228100611334</td>\n",
       "      <td>purple</td>\n",
       "      <td>[]</td>\n",
       "      <td>[{'thumb_url': None, 'url': 'https://p16-sign-va.tiktokcdn.com/obj/tos-maliva-p-0068/44aacdfc71d44367bb9af7fb24a2ebcd_1647973256?x-expires=1648166400&amp;x-signature=cU8atmdpCDvAl0NTOd2JzsWwdMs%3D'}]</td>\n",
       "      <td>41</td>\n",
       "      <td>tiktok</td>\n",
       "      <td>und</td>\n",
       "      <td>Undefined</td>\n",
       "      <td>es</td>\n",
       "      <td>Spain</td>\n",
       "      <td>15200000</td>\n",
       "      <td>41</td>\n",
       "      <td>uuuuu @ivanmartinez @𝐒𝐭𝐢𝐯𝐞𝐧 𝐊𝐄𝐍🧛🏼 @Boggi KEN🦹🏻</td>\n",
       "      <td>formula::Document::MIV::SocialMedia::V2_5</td>\n",
       "      <td>46800</td>\n",
       "      <td>741</td>\n",
       "      <td>520</td>\n",
       "      <td></td>\n",
       "      <td>263200</td>\n",
       "      <td>None</td>\n",
       "      <td>None</td>\n",
       "      <td>39197.267670</td>\n",
       "      <td>46800</td>\n",
       "      <td>741</td>\n",
       "      <td>520</td>\n",
       "      <td>263200</td>\n",
       "      <td>None</td>\n",
       "      <td>https://p77-sign-sg.tiktokcdn.com/musically-maliva-obj/4911769eada39802fa5666db28382c3e~c5_720x720.jpeg?x-expires=1603544400&amp;x-signature=vLORSR2SDvD6bb7hT%2FxvtNMlCf8%3D</td>\n",
       "      <td>731000000</td>\n",
       "      <td>15200000</td>\n",
       "      <td>1037</td>\n",
       "      <td>6688397748901430278</td>\n",
       "      <td>Emilio KEN🦸🏼‍♂️</td>\n",
       "      <td>1210</td>\n",
       "      <td>emiliomartinez</td>\n",
       "      <td>https://www.tiktok.com/@emiliomartinez</td>\n",
       "      <td>[ivanmartinez, 𝐒𝐭𝐢𝐯𝐞𝐧 𝐊𝐄𝐍🧛🏼, Boggi KEN🦹🏻]</td>\n",
       "      <td>0.181306</td>\n",
       "      <td>59010.103976</td>\n",
       "      <td>tiktok</td>\n",
       "      <td>6688397748901430278</td>\n",
       "      <td>https://p77-sign-sg.tiktokcdn.com/musically-maliva-obj/4911769eada39802fa5666db28382c3e~c5_720x720.jpeg?x-expires=1603544400&amp;x-signature=vLORSR2SDvD6bb7hT%2FxvtNMlCf8%3D</td>\n",
       "      <td>2020-11-05T09:14:18.000+0000</td>\n",
       "      <td>Emilio Martinez \"emartineeez\"</td>\n",
       "      <td>15000000.0</td>\n",
       "      <td>emiliomartinez</td>\n",
       "      <td>influencer</td>\n",
       "      <td>https://tiktok.com/@emiliomartinez</td>\n",
       "      <td>ES</td>\n",
       "      <td>Spain</td>\n",
       "      <td>0.181306</td>\n",
       "      <td>[0.16268625, 0.18020293609671847, 0.2019164054336468]</td>\n",
       "      <td>59010.103976</td>\n",
       "      <td>NaN</td>\n",
       "      <td>NaN</td>\n",
       "      <td>NaN</td>\n",
       "      <td>NaN</td>\n",
       "      <td>NaN</td>\n",
       "      <td>NaN</td>\n",
       "      <td>NaN</td>\n",
       "      <td>NaN</td>\n",
       "      <td>NaN</td>\n",
       "      <td>NaN</td>\n",
       "    </tr>\n",
       "  </tbody>\n",
       "</table></div>"
      ],
      "text/plain": [
       "                     id     id_from_provider  \\\n",
       "0  16481952200413205868  7078188176996699394   \n",
       "1  16481952250411139961  7077991228100611334   \n",
       "\n",
       "                                          content              published_at  \\\n",
       "0                                    получилось 😎  2022-03-23T07:05:10.000Z   \n",
       "1  uuuuu @ivanmartinez @𝐒𝐭𝐢𝐯𝐞𝐧 𝐊𝐄𝐍🧛🏼 @Boggi KEN🦹🏻  2022-03-22T18:20:54.000Z   \n",
       "\n",
       "                inserted_at           last_updated_at  \\\n",
       "0  2022-03-25T08:00:20.000Z  2022-03-25T09:00:22.000Z   \n",
       "1  2022-03-25T08:00:25.000Z  2022-03-25T09:00:27.000Z   \n",
       "\n",
       "                                                 url provider topics  \\\n",
       "0  https://www.tiktok.com/@innkastar/video/707818...   purple     []   \n",
       "1  https://www.tiktok.com/@emiliomartinez/video/7...   purple     []   \n",
       "\n",
       "                                              images  channel.id channel.name  \\\n",
       "0  [{'thumb_url': None, 'url': 'https://p16-sign-...          41       tiktok   \n",
       "1  [{'thumb_url': None, 'url': 'https://p16-sign-...          41       tiktok   \n",
       "\n",
       "  language.iso_code language.name location.country.iso_code  \\\n",
       "0               und     Undefined                        ru   \n",
       "1               und     Undefined                        es   \n",
       "\n",
       "  location.country.name  miv.calculation_values.audience  \\\n",
       "0                Russia                         10600000   \n",
       "1                 Spain                         15200000   \n",
       "\n",
       "   miv.calculation_values.channel_type_id  \\\n",
       "0                                      41   \n",
       "1                                      41   \n",
       "\n",
       "                   miv.calculation_values.content  \\\n",
       "0                                    получилось 😎   \n",
       "1  uuuuu @ivanmartinez @𝐒𝐭𝐢𝐯𝐞𝐧 𝐊𝐄𝐍🧛🏼 @Boggi KEN🦹🏻   \n",
       "\n",
       "      miv.calculation_values.formula_version  miv.calculation_values.likes  \\\n",
       "0  formula::Document::MIV::SocialMedia::V2_5                        111200   \n",
       "1  formula::Document::MIV::SocialMedia::V2_5                         46800   \n",
       "\n",
       "   miv.calculation_values.replies  miv.calculation_values.shares  \\\n",
       "0                            2794                             57   \n",
       "1                             741                            520   \n",
       "\n",
       "  miv.calculation_values.title  miv.calculation_values.views  \\\n",
       "0                                                    1000000   \n",
       "1                                                     263200   \n",
       "\n",
       "  miv.calculation_values.voice_id miv.calculation_values.voice_type  \\\n",
       "0                            None                              None   \n",
       "1                            None                              None   \n",
       "\n",
       "      miv.value  social.engagement.likes  social.engagement.replies  \\\n",
       "0  72882.601827                   111200                       2794   \n",
       "1  39197.267670                    46800                        741   \n",
       "\n",
       "   social.engagement.shares  social.engagement.views social.hashtags  \\\n",
       "0                        57                  1000000            None   \n",
       "1                       520                   263200            None   \n",
       "\n",
       "                           social.profile.avatar_url  \\\n",
       "0  https://p16-sign-sg.tiktokcdn.com/musically-ma...   \n",
       "1  https://p77-sign-sg.tiktokcdn.com/musically-ma...   \n",
       "\n",
       "   social.profile.favourites_count  social.profile.followers  \\\n",
       "0                        131900000                  10600000   \n",
       "1                        731000000                  15200000   \n",
       "\n",
       "   social.profile.following    social.profile.id social.profile.name  \\\n",
       "0                        33  6614044423573946373           Innkastar   \n",
       "1                      1037  6688397748901430278     Emilio KEN🦸🏼‍♂️   \n",
       "\n",
       "   social.profile.posts_count social.profile.screen_name  \\\n",
       "0                        1091                  innkastar   \n",
       "1                        1210             emiliomartinez   \n",
       "\n",
       "                       social.profile.url  \\\n",
       "0       https://www.tiktok.com/@innkastar   \n",
       "1  https://www.tiktok.com/@emiliomartinez   \n",
       "\n",
       "                        social.user_mentions  voice.avg_engagement_rate  \\\n",
       "0                                       None                        NaN   \n",
       "1  [ivanmartinez, 𝐒𝐭𝐢𝐯𝐞𝐧 𝐊𝐄𝐍🧛🏼, Boggi KEN🦹🏻]                   0.181306   \n",
       "\n",
       "   voice.avg_miv voice.channel             voice.id  \\\n",
       "0            NaN        tiktok  6614044423573946373   \n",
       "1   59010.103976        tiktok  6688397748901430278   \n",
       "\n",
       "                                     voice.image_url  \\\n",
       "0  https://p16-sign-sg.tiktokcdn.com/musically-ma...   \n",
       "1  https://p77-sign-sg.tiktokcdn.com/musically-ma...   \n",
       "\n",
       "              voice.inserted_at                     voice.name  \\\n",
       "0  2020-11-05T09:15:49.000+0000                   \"Innka.star\"   \n",
       "1  2020-11-05T09:14:18.000+0000  Emilio Martinez \"emartineeez\"   \n",
       "\n",
       "   voice.potential_reach voice.screen_name  voice.type  \\\n",
       "0             10600000.0         innkastar  influencer   \n",
       "1             15000000.0    emiliomartinez  influencer   \n",
       "\n",
       "                            voice.url voice.country.iso voice.country.name  \\\n",
       "0       https://tiktok.com/@innkastar                RU             Russia   \n",
       "1  https://tiktok.com/@emiliomartinez                ES              Spain   \n",
       "\n",
       "   voice.engagement_rate.average  \\\n",
       "0                            NaN   \n",
       "1                       0.181306   \n",
       "\n",
       "                     voice.engagement_rate.quartiles  voice.miv.average  \\\n",
       "0                                                NaN                NaN   \n",
       "1  [0.16268625, 0.18020293609671847, 0.2019164054...       59010.103976   \n",
       "\n",
       "  brand.id brand.voice_type brand.ticker photo_text_enrichment.category  \\\n",
       "0      NaN              NaN          NaN                            NaN   \n",
       "1      NaN              NaN          NaN                            NaN   \n",
       "\n",
       "  photo_text_enrichment.storytelling  photo_text_enrichment.prob brand.name  \\\n",
       "0                                NaN                         NaN        NaN   \n",
       "1                                NaN                         NaN        NaN   \n",
       "\n",
       "  brand.isActive brand.industryLabel brand.parkluBrandName  \n",
       "0            NaN                 NaN                   NaN  \n",
       "1            NaN                 NaN                   NaN  "
      ]
     },
     "execution_count": 6,
     "metadata": {},
     "output_type": "execute_result"
    }
   ],
   "source": [
    "data.head(2)"
   ]
  },
  {
   "cell_type": "code",
   "execution_count": 7,
   "metadata": {},
   "outputs": [],
   "source": [
    "\n",
    "data = data.drop(columns=['url', 'topics','provider', 'images', 'channel.id', 'channel.name',\n",
    "                   'language.iso_code', 'language.name', 'location.country.iso_code',\n",
    "                   'miv.calculation_values.channel_type_id', 'miv.calculation_values.formula_version',\n",
    "                   'miv.calculation_values.title', 'miv.calculation_values.voice_id', 'social.profile.avatar_url',\n",
    "                   'social.profile.id', 'social.profile.url', 'voice.channel', 'voice.id', 'voice.image_url',\n",
    "                   'voice.url'])\n",
    "\n",
    "# dropped another 20 columns, successfully!"
   ]
  },
  {
   "cell_type": "code",
   "execution_count": 9,
   "metadata": {},
   "outputs": [],
   "source": [
    "# reverse sort columns for better inspection\n",
    "data = data.reindex(columns=sorted(data.columns, reverse=True))"
   ]
  },
  {
   "cell_type": "code",
   "execution_count": 8,
   "metadata": {},
   "outputs": [
    {
     "data": {
      "text/plain": [
       "(1395847, 49)"
      ]
     },
     "execution_count": 8,
     "metadata": {},
     "output_type": "execute_result"
    }
   ],
   "source": [
    "data.shape # 20 columns less."
   ]
  },
  {
   "cell_type": "code",
   "execution_count": 23,
   "metadata": {},
   "outputs": [
    {
     "data": {
      "text/html": [
       "<div><div id=6f45219d-728d-4d41-9e00-0a9f44ddc92d style=\"display:none; background-color:#9D6CFF; color:white; width:200px; height:30px; padding-left:5px; border-radius:4px; flex-direction:row; justify-content:space-around; align-items:center;\" onmouseover=\"this.style.backgroundColor='#BA9BF8'\" onmouseout=\"this.style.backgroundColor='#9D6CFF'\" onclick=\"window.commands?.execute('create-mitosheet-from-dataframe-output');\">See Full Dataframe in Mito</div> <script> if (window.commands?.hasCommand('create-mitosheet-from-dataframe-output')) document.getElementById('6f45219d-728d-4d41-9e00-0a9f44ddc92d').style.display = 'flex' </script> <table border=\"1\" class=\"dataframe\">\n",
       "  <thead>\n",
       "    <tr style=\"text-align: right;\">\n",
       "      <th></th>\n",
       "      <th>voice.type</th>\n",
       "      <th>voice.potential_reach</th>\n",
       "      <th>voice.name</th>\n",
       "      <th>voice.miv.average</th>\n",
       "      <th>voice.inserted_at</th>\n",
       "      <th>voice.engagement_rate.quartiles</th>\n",
       "      <th>voice.engagement_rate.average</th>\n",
       "      <th>voice.country.name</th>\n",
       "      <th>voice.avg_miv</th>\n",
       "      <th>voice.avg_engagement_rate</th>\n",
       "      <th>social.user_mentions</th>\n",
       "      <th>social.profile.screen_name</th>\n",
       "      <th>social.profile.posts_count</th>\n",
       "      <th>social.profile.name</th>\n",
       "      <th>social.profile.following</th>\n",
       "      <th>social.profile.followers</th>\n",
       "      <th>social.profile.favourites_count</th>\n",
       "      <th>social.hashtags</th>\n",
       "      <th>social.engagement.views</th>\n",
       "      <th>social.engagement.shares</th>\n",
       "      <th>social.engagement.replies</th>\n",
       "      <th>social.engagement.likes</th>\n",
       "      <th>published_at</th>\n",
       "      <th>photo_text_enrichment.storytelling</th>\n",
       "      <th>photo_text_enrichment.prob</th>\n",
       "      <th>photo_text_enrichment.category</th>\n",
       "      <th>miv.value</th>\n",
       "      <th>miv.calculation_values.voice_type</th>\n",
       "      <th>miv.calculation_values.views</th>\n",
       "      <th>miv.calculation_values.shares</th>\n",
       "      <th>miv.calculation_values.replies</th>\n",
       "      <th>miv.calculation_values.likes</th>\n",
       "      <th>miv.calculation_values.content</th>\n",
       "      <th>miv.calculation_values.audience</th>\n",
       "      <th>location.country.name</th>\n",
       "      <th>last_updated_at</th>\n",
       "      <th>inserted_at</th>\n",
       "      <th>content</th>\n",
       "      <th>brand.voice_type</th>\n",
       "      <th>brand.ticker</th>\n",
       "      <th>brand.parkluBrandName</th>\n",
       "      <th>brand.name</th>\n",
       "      <th>brand.isActive</th>\n",
       "      <th>brand.industryLabel</th>\n",
       "      <th>brand.id</th>\n",
       "    </tr>\n",
       "  </thead>\n",
       "  <tbody>\n",
       "    <tr>\n",
       "      <th>0</th>\n",
       "      <td>influencer</td>\n",
       "      <td>10600000.0</td>\n",
       "      <td>\"Innka.star\"</td>\n",
       "      <td>NaN</td>\n",
       "      <td>2020-11-05T09:15:49.000+0000</td>\n",
       "      <td>NaN</td>\n",
       "      <td>NaN</td>\n",
       "      <td>Russia</td>\n",
       "      <td>NaN</td>\n",
       "      <td>NaN</td>\n",
       "      <td>None</td>\n",
       "      <td>innkastar</td>\n",
       "      <td>1091</td>\n",
       "      <td>Innkastar</td>\n",
       "      <td>33</td>\n",
       "      <td>10600000</td>\n",
       "      <td>131900000</td>\n",
       "      <td>None</td>\n",
       "      <td>1000000</td>\n",
       "      <td>57</td>\n",
       "      <td>2794</td>\n",
       "      <td>111200</td>\n",
       "      <td>2022-03-23T07:05:10.000Z</td>\n",
       "      <td>NaN</td>\n",
       "      <td>NaN</td>\n",
       "      <td>NaN</td>\n",
       "      <td>72882.601827</td>\n",
       "      <td>None</td>\n",
       "      <td>1000000</td>\n",
       "      <td>57</td>\n",
       "      <td>2794</td>\n",
       "      <td>111200</td>\n",
       "      <td>получилось 😎</td>\n",
       "      <td>10600000</td>\n",
       "      <td>Russia</td>\n",
       "      <td>2022-03-25T09:00:22.000Z</td>\n",
       "      <td>2022-03-25T08:00:20.000Z</td>\n",
       "      <td>получилось 😎</td>\n",
       "      <td>NaN</td>\n",
       "      <td>NaN</td>\n",
       "      <td>NaN</td>\n",
       "      <td>NaN</td>\n",
       "      <td>NaN</td>\n",
       "      <td>NaN</td>\n",
       "      <td>NaN</td>\n",
       "    </tr>\n",
       "    <tr>\n",
       "      <th>1</th>\n",
       "      <td>influencer</td>\n",
       "      <td>15000000.0</td>\n",
       "      <td>Emilio Martinez \"emartineeez\"</td>\n",
       "      <td>59010.103976</td>\n",
       "      <td>2020-11-05T09:14:18.000+0000</td>\n",
       "      <td>[0.16268625, 0.18020293609671847, 0.2019164054336468]</td>\n",
       "      <td>0.181306</td>\n",
       "      <td>Spain</td>\n",
       "      <td>59010.103976</td>\n",
       "      <td>0.181306</td>\n",
       "      <td>[ivanmartinez, 𝐒𝐭𝐢𝐯𝐞𝐧 𝐊𝐄𝐍🧛🏼, Boggi KEN🦹🏻]</td>\n",
       "      <td>emiliomartinez</td>\n",
       "      <td>1210</td>\n",
       "      <td>Emilio KEN🦸🏼‍♂️</td>\n",
       "      <td>1037</td>\n",
       "      <td>15200000</td>\n",
       "      <td>731000000</td>\n",
       "      <td>None</td>\n",
       "      <td>263200</td>\n",
       "      <td>520</td>\n",
       "      <td>741</td>\n",
       "      <td>46800</td>\n",
       "      <td>2022-03-22T18:20:54.000Z</td>\n",
       "      <td>NaN</td>\n",
       "      <td>NaN</td>\n",
       "      <td>NaN</td>\n",
       "      <td>39197.267670</td>\n",
       "      <td>None</td>\n",
       "      <td>263200</td>\n",
       "      <td>520</td>\n",
       "      <td>741</td>\n",
       "      <td>46800</td>\n",
       "      <td>uuuuu @ivanmartinez @𝐒𝐭𝐢𝐯𝐞𝐧 𝐊𝐄𝐍🧛🏼 @Boggi KEN🦹🏻</td>\n",
       "      <td>15200000</td>\n",
       "      <td>Spain</td>\n",
       "      <td>2022-03-25T09:00:27.000Z</td>\n",
       "      <td>2022-03-25T08:00:25.000Z</td>\n",
       "      <td>uuuuu @ivanmartinez @𝐒𝐭𝐢𝐯𝐞𝐧 𝐊𝐄𝐍🧛🏼 @Boggi KEN🦹🏻</td>\n",
       "      <td>NaN</td>\n",
       "      <td>NaN</td>\n",
       "      <td>NaN</td>\n",
       "      <td>NaN</td>\n",
       "      <td>NaN</td>\n",
       "      <td>NaN</td>\n",
       "      <td>NaN</td>\n",
       "    </tr>\n",
       "  </tbody>\n",
       "</table></div>"
      ],
      "text/plain": [
       "   voice.type  voice.potential_reach                     voice.name  \\\n",
       "0  influencer             10600000.0                   \"Innka.star\"   \n",
       "1  influencer             15000000.0  Emilio Martinez \"emartineeez\"   \n",
       "\n",
       "   voice.miv.average             voice.inserted_at  \\\n",
       "0                NaN  2020-11-05T09:15:49.000+0000   \n",
       "1       59010.103976  2020-11-05T09:14:18.000+0000   \n",
       "\n",
       "                     voice.engagement_rate.quartiles  \\\n",
       "0                                                NaN   \n",
       "1  [0.16268625, 0.18020293609671847, 0.2019164054...   \n",
       "\n",
       "   voice.engagement_rate.average voice.country.name  voice.avg_miv  \\\n",
       "0                            NaN             Russia            NaN   \n",
       "1                       0.181306              Spain   59010.103976   \n",
       "\n",
       "   voice.avg_engagement_rate                       social.user_mentions  \\\n",
       "0                        NaN                                       None   \n",
       "1                   0.181306  [ivanmartinez, 𝐒𝐭𝐢𝐯𝐞𝐧 𝐊𝐄𝐍🧛🏼, Boggi KEN🦹🏻]   \n",
       "\n",
       "  social.profile.screen_name  social.profile.posts_count social.profile.name  \\\n",
       "0                  innkastar                        1091           Innkastar   \n",
       "1             emiliomartinez                        1210     Emilio KEN🦸🏼‍♂️   \n",
       "\n",
       "   social.profile.following  social.profile.followers  \\\n",
       "0                        33                  10600000   \n",
       "1                      1037                  15200000   \n",
       "\n",
       "   social.profile.favourites_count social.hashtags  social.engagement.views  \\\n",
       "0                        131900000            None                  1000000   \n",
       "1                        731000000            None                   263200   \n",
       "\n",
       "   social.engagement.shares  social.engagement.replies  \\\n",
       "0                        57                       2794   \n",
       "1                       520                        741   \n",
       "\n",
       "   social.engagement.likes              published_at  \\\n",
       "0                   111200  2022-03-23T07:05:10.000Z   \n",
       "1                    46800  2022-03-22T18:20:54.000Z   \n",
       "\n",
       "  photo_text_enrichment.storytelling  photo_text_enrichment.prob  \\\n",
       "0                                NaN                         NaN   \n",
       "1                                NaN                         NaN   \n",
       "\n",
       "  photo_text_enrichment.category     miv.value  \\\n",
       "0                            NaN  72882.601827   \n",
       "1                            NaN  39197.267670   \n",
       "\n",
       "  miv.calculation_values.voice_type  miv.calculation_values.views  \\\n",
       "0                              None                       1000000   \n",
       "1                              None                        263200   \n",
       "\n",
       "   miv.calculation_values.shares  miv.calculation_values.replies  \\\n",
       "0                             57                            2794   \n",
       "1                            520                             741   \n",
       "\n",
       "   miv.calculation_values.likes  \\\n",
       "0                        111200   \n",
       "1                         46800   \n",
       "\n",
       "                   miv.calculation_values.content  \\\n",
       "0                                    получилось 😎   \n",
       "1  uuuuu @ivanmartinez @𝐒𝐭𝐢𝐯𝐞𝐧 𝐊𝐄𝐍🧛🏼 @Boggi KEN🦹🏻   \n",
       "\n",
       "   miv.calculation_values.audience location.country.name  \\\n",
       "0                         10600000                Russia   \n",
       "1                         15200000                 Spain   \n",
       "\n",
       "            last_updated_at               inserted_at  \\\n",
       "0  2022-03-25T09:00:22.000Z  2022-03-25T08:00:20.000Z   \n",
       "1  2022-03-25T09:00:27.000Z  2022-03-25T08:00:25.000Z   \n",
       "\n",
       "                                          content brand.voice_type  \\\n",
       "0                                    получилось 😎              NaN   \n",
       "1  uuuuu @ivanmartinez @𝐒𝐭𝐢𝐯𝐞𝐧 𝐊𝐄𝐍🧛🏼 @Boggi KEN🦹🏻              NaN   \n",
       "\n",
       "  brand.ticker brand.parkluBrandName brand.name brand.isActive  \\\n",
       "0          NaN                   NaN        NaN            NaN   \n",
       "1          NaN                   NaN        NaN            NaN   \n",
       "\n",
       "  brand.industryLabel brand.id  \n",
       "0                 NaN      NaN  \n",
       "1                 NaN      NaN  "
      ]
     },
     "execution_count": 23,
     "metadata": {},
     "output_type": "execute_result"
    }
   ],
   "source": [
    "data.head(2)"
   ]
  },
  {
   "cell_type": "code",
   "execution_count": 24,
   "metadata": {},
   "outputs": [
    {
     "data": {
      "text/html": [
       "<div><div id=44d12c42-b84b-4836-8594-8589b1088d67 style=\"display:none; background-color:#9D6CFF; color:white; width:200px; height:30px; padding-left:5px; border-radius:4px; flex-direction:row; justify-content:space-around; align-items:center;\" onmouseover=\"this.style.backgroundColor='#BA9BF8'\" onmouseout=\"this.style.backgroundColor='#9D6CFF'\" onclick=\"window.commands?.execute('create-mitosheet-from-dataframe-output');\">See Full Dataframe in Mito</div> <script> if (window.commands?.hasCommand('create-mitosheet-from-dataframe-output')) document.getElementById('44d12c42-b84b-4836-8594-8589b1088d67').style.display = 'flex' </script> <table border=\"1\" class=\"dataframe\">\n",
       "  <thead>\n",
       "    <tr style=\"text-align: right;\">\n",
       "      <th></th>\n",
       "      <th>voice.type</th>\n",
       "      <th>voice.potential_reach</th>\n",
       "      <th>voice.name</th>\n",
       "      <th>voice.miv.average</th>\n",
       "      <th>voice.inserted_at</th>\n",
       "      <th>voice.engagement_rate.quartiles</th>\n",
       "      <th>voice.engagement_rate.average</th>\n",
       "      <th>voice.country.name</th>\n",
       "      <th>voice.avg_miv</th>\n",
       "      <th>voice.avg_engagement_rate</th>\n",
       "      <th>social.user_mentions</th>\n",
       "      <th>social.profile.screen_name</th>\n",
       "      <th>social.profile.posts_count</th>\n",
       "      <th>social.profile.name</th>\n",
       "      <th>social.profile.following</th>\n",
       "      <th>social.profile.followers</th>\n",
       "      <th>social.profile.favourites_count</th>\n",
       "      <th>social.hashtags</th>\n",
       "      <th>social.engagement.views</th>\n",
       "      <th>social.engagement.shares</th>\n",
       "      <th>social.engagement.replies</th>\n",
       "      <th>social.engagement.likes</th>\n",
       "      <th>published_at</th>\n",
       "      <th>photo_text_enrichment.storytelling</th>\n",
       "      <th>photo_text_enrichment.prob</th>\n",
       "      <th>photo_text_enrichment.category</th>\n",
       "      <th>miv.value</th>\n",
       "      <th>miv.calculation_values.voice_type</th>\n",
       "      <th>miv.calculation_values.views</th>\n",
       "      <th>miv.calculation_values.shares</th>\n",
       "      <th>miv.calculation_values.replies</th>\n",
       "      <th>miv.calculation_values.likes</th>\n",
       "      <th>miv.calculation_values.content</th>\n",
       "      <th>miv.calculation_values.audience</th>\n",
       "      <th>location.country.name</th>\n",
       "      <th>last_updated_at</th>\n",
       "      <th>inserted_at</th>\n",
       "      <th>content</th>\n",
       "      <th>brand.voice_type</th>\n",
       "      <th>brand.ticker</th>\n",
       "      <th>brand.parkluBrandName</th>\n",
       "      <th>brand.name</th>\n",
       "      <th>brand.isActive</th>\n",
       "      <th>brand.industryLabel</th>\n",
       "      <th>brand.id</th>\n",
       "    </tr>\n",
       "  </thead>\n",
       "  <tbody>\n",
       "    <tr>\n",
       "      <th>0</th>\n",
       "      <td>influencer</td>\n",
       "      <td>10600000.0</td>\n",
       "      <td>\"Innka.star\"</td>\n",
       "      <td>NaN</td>\n",
       "      <td>2020-11-05T09:15:49.000+0000</td>\n",
       "      <td>NaN</td>\n",
       "      <td>NaN</td>\n",
       "      <td>Russia</td>\n",
       "      <td>NaN</td>\n",
       "      <td>NaN</td>\n",
       "      <td>None</td>\n",
       "      <td>innkastar</td>\n",
       "      <td>1091</td>\n",
       "      <td>Innkastar</td>\n",
       "      <td>33</td>\n",
       "      <td>10600000</td>\n",
       "      <td>131900000</td>\n",
       "      <td>None</td>\n",
       "      <td>1000000</td>\n",
       "      <td>57</td>\n",
       "      <td>2794</td>\n",
       "      <td>111200</td>\n",
       "      <td>2022-03-23T07:05:10.000Z</td>\n",
       "      <td>NaN</td>\n",
       "      <td>NaN</td>\n",
       "      <td>NaN</td>\n",
       "      <td>72882.601827</td>\n",
       "      <td>None</td>\n",
       "      <td>1000000</td>\n",
       "      <td>57</td>\n",
       "      <td>2794</td>\n",
       "      <td>111200</td>\n",
       "      <td>получилось 😎</td>\n",
       "      <td>10600000</td>\n",
       "      <td>Russia</td>\n",
       "      <td>2022-03-25T09:00:22.000Z</td>\n",
       "      <td>2022-03-25T08:00:20.000Z</td>\n",
       "      <td>получилось 😎</td>\n",
       "      <td>NaN</td>\n",
       "      <td>NaN</td>\n",
       "      <td>NaN</td>\n",
       "      <td>NaN</td>\n",
       "      <td>NaN</td>\n",
       "      <td>NaN</td>\n",
       "      <td>NaN</td>\n",
       "    </tr>\n",
       "    <tr>\n",
       "      <th>1</th>\n",
       "      <td>influencer</td>\n",
       "      <td>15000000.0</td>\n",
       "      <td>Emilio Martinez \"emartineeez\"</td>\n",
       "      <td>59010.103976</td>\n",
       "      <td>2020-11-05T09:14:18.000+0000</td>\n",
       "      <td>[0.16268625, 0.18020293609671847, 0.2019164054336468]</td>\n",
       "      <td>0.181306</td>\n",
       "      <td>Spain</td>\n",
       "      <td>59010.103976</td>\n",
       "      <td>0.181306</td>\n",
       "      <td>[ivanmartinez, 𝐒𝐭𝐢𝐯𝐞𝐧 𝐊𝐄𝐍🧛🏼, Boggi KEN🦹🏻]</td>\n",
       "      <td>emiliomartinez</td>\n",
       "      <td>1210</td>\n",
       "      <td>Emilio KEN🦸🏼‍♂️</td>\n",
       "      <td>1037</td>\n",
       "      <td>15200000</td>\n",
       "      <td>731000000</td>\n",
       "      <td>None</td>\n",
       "      <td>263200</td>\n",
       "      <td>520</td>\n",
       "      <td>741</td>\n",
       "      <td>46800</td>\n",
       "      <td>2022-03-22T18:20:54.000Z</td>\n",
       "      <td>NaN</td>\n",
       "      <td>NaN</td>\n",
       "      <td>NaN</td>\n",
       "      <td>39197.267670</td>\n",
       "      <td>None</td>\n",
       "      <td>263200</td>\n",
       "      <td>520</td>\n",
       "      <td>741</td>\n",
       "      <td>46800</td>\n",
       "      <td>uuuuu @ivanmartinez @𝐒𝐭𝐢𝐯𝐞𝐧 𝐊𝐄𝐍🧛🏼 @Boggi KEN🦹🏻</td>\n",
       "      <td>15200000</td>\n",
       "      <td>Spain</td>\n",
       "      <td>2022-03-25T09:00:27.000Z</td>\n",
       "      <td>2022-03-25T08:00:25.000Z</td>\n",
       "      <td>uuuuu @ivanmartinez @𝐒𝐭𝐢𝐯𝐞𝐧 𝐊𝐄𝐍🧛🏼 @Boggi KEN🦹🏻</td>\n",
       "      <td>NaN</td>\n",
       "      <td>NaN</td>\n",
       "      <td>NaN</td>\n",
       "      <td>NaN</td>\n",
       "      <td>NaN</td>\n",
       "      <td>NaN</td>\n",
       "      <td>NaN</td>\n",
       "    </tr>\n",
       "  </tbody>\n",
       "</table></div>"
      ],
      "text/plain": [
       "   voice.type  voice.potential_reach                     voice.name  \\\n",
       "0  influencer             10600000.0                   \"Innka.star\"   \n",
       "1  influencer             15000000.0  Emilio Martinez \"emartineeez\"   \n",
       "\n",
       "   voice.miv.average             voice.inserted_at  \\\n",
       "0                NaN  2020-11-05T09:15:49.000+0000   \n",
       "1       59010.103976  2020-11-05T09:14:18.000+0000   \n",
       "\n",
       "                     voice.engagement_rate.quartiles  \\\n",
       "0                                                NaN   \n",
       "1  [0.16268625, 0.18020293609671847, 0.2019164054...   \n",
       "\n",
       "   voice.engagement_rate.average voice.country.name  voice.avg_miv  \\\n",
       "0                            NaN             Russia            NaN   \n",
       "1                       0.181306              Spain   59010.103976   \n",
       "\n",
       "   voice.avg_engagement_rate                       social.user_mentions  \\\n",
       "0                        NaN                                       None   \n",
       "1                   0.181306  [ivanmartinez, 𝐒𝐭𝐢𝐯𝐞𝐧 𝐊𝐄𝐍🧛🏼, Boggi KEN🦹🏻]   \n",
       "\n",
       "  social.profile.screen_name  social.profile.posts_count social.profile.name  \\\n",
       "0                  innkastar                        1091           Innkastar   \n",
       "1             emiliomartinez                        1210     Emilio KEN🦸🏼‍♂️   \n",
       "\n",
       "   social.profile.following  social.profile.followers  \\\n",
       "0                        33                  10600000   \n",
       "1                      1037                  15200000   \n",
       "\n",
       "   social.profile.favourites_count social.hashtags  social.engagement.views  \\\n",
       "0                        131900000            None                  1000000   \n",
       "1                        731000000            None                   263200   \n",
       "\n",
       "   social.engagement.shares  social.engagement.replies  \\\n",
       "0                        57                       2794   \n",
       "1                       520                        741   \n",
       "\n",
       "   social.engagement.likes              published_at  \\\n",
       "0                   111200  2022-03-23T07:05:10.000Z   \n",
       "1                    46800  2022-03-22T18:20:54.000Z   \n",
       "\n",
       "  photo_text_enrichment.storytelling  photo_text_enrichment.prob  \\\n",
       "0                                NaN                         NaN   \n",
       "1                                NaN                         NaN   \n",
       "\n",
       "  photo_text_enrichment.category     miv.value  \\\n",
       "0                            NaN  72882.601827   \n",
       "1                            NaN  39197.267670   \n",
       "\n",
       "  miv.calculation_values.voice_type  miv.calculation_values.views  \\\n",
       "0                              None                       1000000   \n",
       "1                              None                        263200   \n",
       "\n",
       "   miv.calculation_values.shares  miv.calculation_values.replies  \\\n",
       "0                             57                            2794   \n",
       "1                            520                             741   \n",
       "\n",
       "   miv.calculation_values.likes  \\\n",
       "0                        111200   \n",
       "1                         46800   \n",
       "\n",
       "                   miv.calculation_values.content  \\\n",
       "0                                    получилось 😎   \n",
       "1  uuuuu @ivanmartinez @𝐒𝐭𝐢𝐯𝐞𝐧 𝐊𝐄𝐍🧛🏼 @Boggi KEN🦹🏻   \n",
       "\n",
       "   miv.calculation_values.audience location.country.name  \\\n",
       "0                         10600000                Russia   \n",
       "1                         15200000                 Spain   \n",
       "\n",
       "            last_updated_at               inserted_at  \\\n",
       "0  2022-03-25T09:00:22.000Z  2022-03-25T08:00:20.000Z   \n",
       "1  2022-03-25T09:00:27.000Z  2022-03-25T08:00:25.000Z   \n",
       "\n",
       "                                          content brand.voice_type  \\\n",
       "0                                    получилось 😎              NaN   \n",
       "1  uuuuu @ivanmartinez @𝐒𝐭𝐢𝐯𝐞𝐧 𝐊𝐄𝐍🧛🏼 @Boggi KEN🦹🏻              NaN   \n",
       "\n",
       "  brand.ticker brand.parkluBrandName brand.name brand.isActive  \\\n",
       "0          NaN                   NaN        NaN            NaN   \n",
       "1          NaN                   NaN        NaN            NaN   \n",
       "\n",
       "  brand.industryLabel brand.id  \n",
       "0                 NaN      NaN  \n",
       "1                 NaN      NaN  "
      ]
     },
     "execution_count": 24,
     "metadata": {},
     "output_type": "execute_result"
    }
   ],
   "source": [
    "data.head(2)"
   ]
  },
  {
   "cell_type": "code",
   "execution_count": 21,
   "metadata": {},
   "outputs": [
    {
     "data": {
      "text/plain": [
       "(0, 0)"
      ]
     },
     "execution_count": 21,
     "metadata": {},
     "output_type": "execute_result"
    }
   ],
   "source": [
    "#data['voice.type'].unique()\n",
    "data['social.engagement.replies'].isnull().sum(), data['miv.calculation_values.replies'].isnull().sum()"
   ]
  },
  {
   "attachments": {},
   "cell_type": "markdown",
   "metadata": {},
   "source": [
    "#### c) Drop further pointless columns"
   ]
  },
  {
   "cell_type": "code",
   "execution_count": 17,
   "metadata": {},
   "outputs": [],
   "source": [
    "\n",
    "data = data.drop(columns=['voice.screen_name', 'voice.country.iso', 'id_from_provider', 'id'])"
   ]
  },
  {
   "cell_type": "code",
   "execution_count": 25,
   "metadata": {},
   "outputs": [],
   "source": [
    "# drop 'em 3rd run\n",
    "data = data.drop(columns=['miv.calculation_values.views', 'miv.calculation_values.shares', 'miv.calculation_values.replies',\n",
    "                          'miv.calculation_values.likes'])"
   ]
  },
  {
   "cell_type": "code",
   "execution_count": 26,
   "metadata": {},
   "outputs": [
    {
     "data": {
      "text/plain": [
       "(1395847, 41)"
      ]
     },
     "execution_count": 26,
     "metadata": {},
     "output_type": "execute_result"
    }
   ],
   "source": [
    "data.shape"
   ]
  },
  {
   "attachments": {},
   "cell_type": "markdown",
   "metadata": {},
   "source": [
    "## ***`2) Rename & Reorder`***\n",
    "---"
   ]
  },
  {
   "cell_type": "code",
   "execution_count": 27,
   "metadata": {},
   "outputs": [
    {
     "data": {
      "text/plain": [
       "Index(['voice.type', 'voice.potential_reach', 'voice.name',\n",
       "       'voice.miv.average', 'voice.inserted_at',\n",
       "       'voice.engagement_rate.quartiles', 'voice.engagement_rate.average',\n",
       "       'voice.country.name', 'voice.avg_miv', 'voice.avg_engagement_rate',\n",
       "       'social.user_mentions', 'social.profile.screen_name',\n",
       "       'social.profile.posts_count', 'social.profile.name',\n",
       "       'social.profile.following', 'social.profile.followers',\n",
       "       'social.profile.favourites_count', 'social.hashtags',\n",
       "       'social.engagement.views', 'social.engagement.shares',\n",
       "       'social.engagement.replies', 'social.engagement.likes', 'published_at',\n",
       "       'photo_text_enrichment.storytelling', 'photo_text_enrichment.prob',\n",
       "       'photo_text_enrichment.category', 'miv.value',\n",
       "       'miv.calculation_values.voice_type', 'miv.calculation_values.content',\n",
       "       'miv.calculation_values.audience', 'location.country.name',\n",
       "       'last_updated_at', 'inserted_at', 'content', 'brand.voice_type',\n",
       "       'brand.ticker', 'brand.parkluBrandName', 'brand.name', 'brand.isActive',\n",
       "       'brand.industryLabel', 'brand.id'],\n",
       "      dtype='object')"
      ]
     },
     "execution_count": 27,
     "metadata": {},
     "output_type": "execute_result"
    }
   ],
   "source": [
    "data.columns"
   ]
  },
  {
   "cell_type": "code",
   "execution_count": null,
   "metadata": {},
   "outputs": [],
   "source": [
    "#data = data.reindex(columns=['voice.name'])"
   ]
  },
  {
   "cell_type": "code",
   "execution_count": null,
   "metadata": {},
   "outputs": [],
   "source": []
  },
  {
   "cell_type": "code",
   "execution_count": null,
   "metadata": {},
   "outputs": [],
   "source": []
  },
  {
   "attachments": {},
   "cell_type": "markdown",
   "metadata": {},
   "source": [
    "## ***`3) Column Density Investigation`***\n",
    "---"
   ]
  },
  {
   "attachments": {},
   "cell_type": "markdown",
   "metadata": {},
   "source": [
    "## ***`4) Data Type Casting`***\n",
    "---"
   ]
  },
  {
   "attachments": {},
   "cell_type": "markdown",
   "metadata": {},
   "source": [
    "## ***`5) Detailed Column Investigation`***\n",
    "---"
   ]
  },
  {
   "attachments": {},
   "cell_type": "markdown",
   "metadata": {},
   "source": [
    "## ***`6) Write Cleaned Data to File`***\n",
    "---\n"
   ]
  },
  {
   "cell_type": "code",
   "execution_count": 2,
   "metadata": {},
   "outputs": [
    {
     "data": {
      "text/plain": [
       "218.5"
      ]
     },
     "execution_count": 2,
     "metadata": {},
     "output_type": "execute_result"
    }
   ],
   "source": [
    "437/2"
   ]
  },
  {
   "cell_type": "code",
   "execution_count": 3,
   "metadata": {},
   "outputs": [
    {
     "data": {
      "text/plain": [
       "570"
      ]
     },
     "execution_count": 3,
     "metadata": {},
     "output_type": "execute_result"
    }
   ],
   "source": [
    "285*2"
   ]
  },
  {
   "cell_type": "code",
   "execution_count": null,
   "metadata": {},
   "outputs": [],
   "source": [
    "#connors kleiner dick"
   ]
  }
 ],
 "metadata": {
  "kernelspec": {
   "display_name": "base",
   "language": "python",
   "name": "python3"
  },
  "language_info": {
   "codemirror_mode": {
    "name": "ipython",
    "version": 3
   },
   "file_extension": ".py",
   "mimetype": "text/x-python",
   "name": "python",
   "nbconvert_exporter": "python",
   "pygments_lexer": "ipython3",
   "version": "3.9.12 (main, Apr  5 2022, 01:53:17) \n[Clang 12.0.0 ]"
  },
  "orig_nbformat": 4,
  "vscode": {
   "interpreter": {
    "hash": "7f3d6e7e52d94043ff22a69459b4cc427869268bbac229e55d8aae4cc2009a30"
   }
  }
 },
 "nbformat": 4,
 "nbformat_minor": 2
}
